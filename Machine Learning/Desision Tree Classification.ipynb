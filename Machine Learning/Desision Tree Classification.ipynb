{
 "cells": [
  {
   "cell_type": "code",
   "execution_count": 1,
   "id": "047c2a32",
   "metadata": {},
   "outputs": [],
   "source": [
    "import pandas as pd\n",
    "import seaborn as sns\n",
    "from sklearn.model_selection import train_test_split\n",
    "from sklearn.metrics import accuracy_score\n",
    "from sklearn import tree\n",
    "import matplotlib.pyplot as plt\n",
    "import numpy as np\n",
    "from sklearn import metrics"
   ]
  },
  {
   "cell_type": "code",
   "execution_count": 421,
   "id": "be496b23",
   "metadata": {},
   "outputs": [
    {
     "ename": "FileNotFoundError",
     "evalue": "[Errno 2] No such file or directory: 'heart.csv'",
     "output_type": "error",
     "traceback": [
      "\u001b[1;31m---------------------------------------------------------------------------\u001b[0m",
      "\u001b[1;31mFileNotFoundError\u001b[0m                         Traceback (most recent call last)",
      "\u001b[1;32m~\\AppData\\Local\\Temp\\ipykernel_8340\\2647919402.py\u001b[0m in \u001b[0;36m<module>\u001b[1;34m\u001b[0m\n\u001b[1;32m----> 1\u001b[1;33m \u001b[0mdf\u001b[0m \u001b[1;33m=\u001b[0m \u001b[0mpd\u001b[0m\u001b[1;33m.\u001b[0m\u001b[0mread_csv\u001b[0m\u001b[1;33m(\u001b[0m\u001b[1;34m'heart.csv'\u001b[0m\u001b[1;33m)\u001b[0m\u001b[1;33m\u001b[0m\u001b[1;33m\u001b[0m\u001b[0m\n\u001b[0m",
      "\u001b[1;32m~\\anaconda3\\lib\\site-packages\\pandas\\util\\_decorators.py\u001b[0m in \u001b[0;36mwrapper\u001b[1;34m(*args, **kwargs)\u001b[0m\n\u001b[0;32m    309\u001b[0m                     \u001b[0mstacklevel\u001b[0m\u001b[1;33m=\u001b[0m\u001b[0mstacklevel\u001b[0m\u001b[1;33m,\u001b[0m\u001b[1;33m\u001b[0m\u001b[1;33m\u001b[0m\u001b[0m\n\u001b[0;32m    310\u001b[0m                 )\n\u001b[1;32m--> 311\u001b[1;33m             \u001b[1;32mreturn\u001b[0m \u001b[0mfunc\u001b[0m\u001b[1;33m(\u001b[0m\u001b[1;33m*\u001b[0m\u001b[0margs\u001b[0m\u001b[1;33m,\u001b[0m \u001b[1;33m**\u001b[0m\u001b[0mkwargs\u001b[0m\u001b[1;33m)\u001b[0m\u001b[1;33m\u001b[0m\u001b[1;33m\u001b[0m\u001b[0m\n\u001b[0m\u001b[0;32m    312\u001b[0m \u001b[1;33m\u001b[0m\u001b[0m\n\u001b[0;32m    313\u001b[0m         \u001b[1;32mreturn\u001b[0m \u001b[0mwrapper\u001b[0m\u001b[1;33m\u001b[0m\u001b[1;33m\u001b[0m\u001b[0m\n",
      "\u001b[1;32m~\\anaconda3\\lib\\site-packages\\pandas\\io\\parsers\\readers.py\u001b[0m in \u001b[0;36mread_csv\u001b[1;34m(filepath_or_buffer, sep, delimiter, header, names, index_col, usecols, squeeze, prefix, mangle_dupe_cols, dtype, engine, converters, true_values, false_values, skipinitialspace, skiprows, skipfooter, nrows, na_values, keep_default_na, na_filter, verbose, skip_blank_lines, parse_dates, infer_datetime_format, keep_date_col, date_parser, dayfirst, cache_dates, iterator, chunksize, compression, thousands, decimal, lineterminator, quotechar, quoting, doublequote, escapechar, comment, encoding, encoding_errors, dialect, error_bad_lines, warn_bad_lines, on_bad_lines, delim_whitespace, low_memory, memory_map, float_precision, storage_options)\u001b[0m\n\u001b[0;32m    676\u001b[0m     \u001b[0mkwds\u001b[0m\u001b[1;33m.\u001b[0m\u001b[0mupdate\u001b[0m\u001b[1;33m(\u001b[0m\u001b[0mkwds_defaults\u001b[0m\u001b[1;33m)\u001b[0m\u001b[1;33m\u001b[0m\u001b[1;33m\u001b[0m\u001b[0m\n\u001b[0;32m    677\u001b[0m \u001b[1;33m\u001b[0m\u001b[0m\n\u001b[1;32m--> 678\u001b[1;33m     \u001b[1;32mreturn\u001b[0m \u001b[0m_read\u001b[0m\u001b[1;33m(\u001b[0m\u001b[0mfilepath_or_buffer\u001b[0m\u001b[1;33m,\u001b[0m \u001b[0mkwds\u001b[0m\u001b[1;33m)\u001b[0m\u001b[1;33m\u001b[0m\u001b[1;33m\u001b[0m\u001b[0m\n\u001b[0m\u001b[0;32m    679\u001b[0m \u001b[1;33m\u001b[0m\u001b[0m\n\u001b[0;32m    680\u001b[0m \u001b[1;33m\u001b[0m\u001b[0m\n",
      "\u001b[1;32m~\\anaconda3\\lib\\site-packages\\pandas\\io\\parsers\\readers.py\u001b[0m in \u001b[0;36m_read\u001b[1;34m(filepath_or_buffer, kwds)\u001b[0m\n\u001b[0;32m    573\u001b[0m \u001b[1;33m\u001b[0m\u001b[0m\n\u001b[0;32m    574\u001b[0m     \u001b[1;31m# Create the parser.\u001b[0m\u001b[1;33m\u001b[0m\u001b[1;33m\u001b[0m\u001b[0m\n\u001b[1;32m--> 575\u001b[1;33m     \u001b[0mparser\u001b[0m \u001b[1;33m=\u001b[0m \u001b[0mTextFileReader\u001b[0m\u001b[1;33m(\u001b[0m\u001b[0mfilepath_or_buffer\u001b[0m\u001b[1;33m,\u001b[0m \u001b[1;33m**\u001b[0m\u001b[0mkwds\u001b[0m\u001b[1;33m)\u001b[0m\u001b[1;33m\u001b[0m\u001b[1;33m\u001b[0m\u001b[0m\n\u001b[0m\u001b[0;32m    576\u001b[0m \u001b[1;33m\u001b[0m\u001b[0m\n\u001b[0;32m    577\u001b[0m     \u001b[1;32mif\u001b[0m \u001b[0mchunksize\u001b[0m \u001b[1;32mor\u001b[0m \u001b[0miterator\u001b[0m\u001b[1;33m:\u001b[0m\u001b[1;33m\u001b[0m\u001b[1;33m\u001b[0m\u001b[0m\n",
      "\u001b[1;32m~\\anaconda3\\lib\\site-packages\\pandas\\io\\parsers\\readers.py\u001b[0m in \u001b[0;36m__init__\u001b[1;34m(self, f, engine, **kwds)\u001b[0m\n\u001b[0;32m    930\u001b[0m \u001b[1;33m\u001b[0m\u001b[0m\n\u001b[0;32m    931\u001b[0m         \u001b[0mself\u001b[0m\u001b[1;33m.\u001b[0m\u001b[0mhandles\u001b[0m\u001b[1;33m:\u001b[0m \u001b[0mIOHandles\u001b[0m \u001b[1;33m|\u001b[0m \u001b[1;32mNone\u001b[0m \u001b[1;33m=\u001b[0m \u001b[1;32mNone\u001b[0m\u001b[1;33m\u001b[0m\u001b[1;33m\u001b[0m\u001b[0m\n\u001b[1;32m--> 932\u001b[1;33m         \u001b[0mself\u001b[0m\u001b[1;33m.\u001b[0m\u001b[0m_engine\u001b[0m \u001b[1;33m=\u001b[0m \u001b[0mself\u001b[0m\u001b[1;33m.\u001b[0m\u001b[0m_make_engine\u001b[0m\u001b[1;33m(\u001b[0m\u001b[0mf\u001b[0m\u001b[1;33m,\u001b[0m \u001b[0mself\u001b[0m\u001b[1;33m.\u001b[0m\u001b[0mengine\u001b[0m\u001b[1;33m)\u001b[0m\u001b[1;33m\u001b[0m\u001b[1;33m\u001b[0m\u001b[0m\n\u001b[0m\u001b[0;32m    933\u001b[0m \u001b[1;33m\u001b[0m\u001b[0m\n\u001b[0;32m    934\u001b[0m     \u001b[1;32mdef\u001b[0m \u001b[0mclose\u001b[0m\u001b[1;33m(\u001b[0m\u001b[0mself\u001b[0m\u001b[1;33m)\u001b[0m\u001b[1;33m:\u001b[0m\u001b[1;33m\u001b[0m\u001b[1;33m\u001b[0m\u001b[0m\n",
      "\u001b[1;32m~\\anaconda3\\lib\\site-packages\\pandas\\io\\parsers\\readers.py\u001b[0m in \u001b[0;36m_make_engine\u001b[1;34m(self, f, engine)\u001b[0m\n\u001b[0;32m   1214\u001b[0m             \u001b[1;31m# \"Union[str, PathLike[str], ReadCsvBuffer[bytes], ReadCsvBuffer[str]]\"\u001b[0m\u001b[1;33m\u001b[0m\u001b[1;33m\u001b[0m\u001b[0m\n\u001b[0;32m   1215\u001b[0m             \u001b[1;31m# , \"str\", \"bool\", \"Any\", \"Any\", \"Any\", \"Any\", \"Any\"\u001b[0m\u001b[1;33m\u001b[0m\u001b[1;33m\u001b[0m\u001b[0m\n\u001b[1;32m-> 1216\u001b[1;33m             self.handles = get_handle(  # type: ignore[call-overload]\n\u001b[0m\u001b[0;32m   1217\u001b[0m                 \u001b[0mf\u001b[0m\u001b[1;33m,\u001b[0m\u001b[1;33m\u001b[0m\u001b[1;33m\u001b[0m\u001b[0m\n\u001b[0;32m   1218\u001b[0m                 \u001b[0mmode\u001b[0m\u001b[1;33m,\u001b[0m\u001b[1;33m\u001b[0m\u001b[1;33m\u001b[0m\u001b[0m\n",
      "\u001b[1;32m~\\anaconda3\\lib\\site-packages\\pandas\\io\\common.py\u001b[0m in \u001b[0;36mget_handle\u001b[1;34m(path_or_buf, mode, encoding, compression, memory_map, is_text, errors, storage_options)\u001b[0m\n\u001b[0;32m    784\u001b[0m         \u001b[1;32mif\u001b[0m \u001b[0mioargs\u001b[0m\u001b[1;33m.\u001b[0m\u001b[0mencoding\u001b[0m \u001b[1;32mand\u001b[0m \u001b[1;34m\"b\"\u001b[0m \u001b[1;32mnot\u001b[0m \u001b[1;32min\u001b[0m \u001b[0mioargs\u001b[0m\u001b[1;33m.\u001b[0m\u001b[0mmode\u001b[0m\u001b[1;33m:\u001b[0m\u001b[1;33m\u001b[0m\u001b[1;33m\u001b[0m\u001b[0m\n\u001b[0;32m    785\u001b[0m             \u001b[1;31m# Encoding\u001b[0m\u001b[1;33m\u001b[0m\u001b[1;33m\u001b[0m\u001b[0m\n\u001b[1;32m--> 786\u001b[1;33m             handle = open(\n\u001b[0m\u001b[0;32m    787\u001b[0m                 \u001b[0mhandle\u001b[0m\u001b[1;33m,\u001b[0m\u001b[1;33m\u001b[0m\u001b[1;33m\u001b[0m\u001b[0m\n\u001b[0;32m    788\u001b[0m                 \u001b[0mioargs\u001b[0m\u001b[1;33m.\u001b[0m\u001b[0mmode\u001b[0m\u001b[1;33m,\u001b[0m\u001b[1;33m\u001b[0m\u001b[1;33m\u001b[0m\u001b[0m\n",
      "\u001b[1;31mFileNotFoundError\u001b[0m: [Errno 2] No such file or directory: 'heart.csv'"
     ]
    }
   ],
   "source": [
    "df = pd.read_csv('heart.csv')"
   ]
  },
  {
   "cell_type": "code",
   "execution_count": 3,
   "id": "4b385e99",
   "metadata": {},
   "outputs": [
    {
     "name": "stderr",
     "output_type": "stream",
     "text": [
      "C:\\Users\\VictoriaShen\\AppData\\Local\\Temp\\ipykernel_8340\\3056112379.py:13: FutureWarning: this method is deprecated in favour of `Styler.format(precision=..)`\n",
      "  df.corr().style.background_gradient(cmap, axis=1)\\\n"
     ]
    },
    {
     "data": {
      "text/html": [
       "<style type=\"text/css\">\n",
       "#T_78fb1 th {\n",
       "  font-size: 7pt;\n",
       "}\n",
       "#T_78fb1 td {\n",
       "  padding: 0em 0em;\n",
       "}\n",
       "#T_78fb1 th:hover {\n",
       "  font-size: 12pt;\n",
       "}\n",
       "#T_78fb1 tr:hover td:hover {\n",
       "  max-width: 200px;\n",
       "  font-size: 12pt;\n",
       "}\n",
       "#T_78fb1_row0_col0, #T_78fb1_row1_col1, #T_78fb1_row2_col2, #T_78fb1_row3_col3, #T_78fb1_row4_col4, #T_78fb1_row5_col5, #T_78fb1_row6_col6, #T_78fb1_row7_col7, #T_78fb1_row8_col8, #T_78fb1_row9_col9, #T_78fb1_row10_col10, #T_78fb1_row11_col11, #T_78fb1_row12_col12, #T_78fb1_row13_col13 {\n",
       "  background-color: #4479bb;\n",
       "  color: #f1f1f1;\n",
       "  max-width: 80px;\n",
       "  font-size: 10pt;\n",
       "}\n",
       "#T_78fb1_row0_col1, #T_78fb1_row5_col0, #T_78fb1_row6_col10 {\n",
       "  background-color: #e28698;\n",
       "  color: #f1f1f1;\n",
       "  max-width: 80px;\n",
       "  font-size: 10pt;\n",
       "}\n",
       "#T_78fb1_row0_col2, #T_78fb1_row2_col4, #T_78fb1_row4_col11 {\n",
       "  background-color: #e48e9f;\n",
       "  color: #f1f1f1;\n",
       "  max-width: 80px;\n",
       "  font-size: 10pt;\n",
       "}\n",
       "#T_78fb1_row0_col3, #T_78fb1_row0_col11, #T_78fb1_row11_col0 {\n",
       "  background-color: #f1e8ea;\n",
       "  color: #000000;\n",
       "  max-width: 80px;\n",
       "  font-size: 10pt;\n",
       "}\n",
       "#T_78fb1_row0_col4 {\n",
       "  background-color: #efdcdf;\n",
       "  color: #000000;\n",
       "  max-width: 80px;\n",
       "  font-size: 10pt;\n",
       "}\n",
       "#T_78fb1_row0_col5 {\n",
       "  background-color: #ebc2ca;\n",
       "  color: #000000;\n",
       "  max-width: 80px;\n",
       "  font-size: 10pt;\n",
       "}\n",
       "#T_78fb1_row0_col6, #T_78fb1_row1_col2 {\n",
       "  background-color: #e17e92;\n",
       "  color: #f1f1f1;\n",
       "  max-width: 80px;\n",
       "  font-size: 10pt;\n",
       "}\n",
       "#T_78fb1_row0_col7, #T_78fb1_row1_col13, #T_78fb1_row2_col8, #T_78fb1_row3_col13, #T_78fb1_row4_col1, #T_78fb1_row5_col6, #T_78fb1_row6_col4, #T_78fb1_row7_col0, #T_78fb1_row8_col13, #T_78fb1_row9_col10, #T_78fb1_row10_col9, #T_78fb1_row11_col13, #T_78fb1_row12_col13, #T_78fb1_row13_col8, #T_78fb1_row13_col9 {\n",
       "  background-color: #d73c5b;\n",
       "  color: #f1f1f1;\n",
       "  max-width: 80px;\n",
       "  font-size: 10pt;\n",
       "}\n",
       "#T_78fb1_row0_col8, #T_78fb1_row8_col3 {\n",
       "  background-color: #eab9c3;\n",
       "  color: #000000;\n",
       "  max-width: 80px;\n",
       "  font-size: 10pt;\n",
       "}\n",
       "#T_78fb1_row0_col9 {\n",
       "  background-color: #efd9dd;\n",
       "  color: #000000;\n",
       "  max-width: 80px;\n",
       "  font-size: 10pt;\n",
       "}\n",
       "#T_78fb1_row0_col10, #T_78fb1_row1_col3 {\n",
       "  background-color: #e0748a;\n",
       "  color: #f1f1f1;\n",
       "  max-width: 80px;\n",
       "  font-size: 10pt;\n",
       "}\n",
       "#T_78fb1_row0_col12, #T_78fb1_row9_col6 {\n",
       "  background-color: #e9b5bf;\n",
       "  color: #000000;\n",
       "  max-width: 80px;\n",
       "  font-size: 10pt;\n",
       "}\n",
       "#T_78fb1_row0_col13 {\n",
       "  background-color: #dd657d;\n",
       "  color: #f1f1f1;\n",
       "  max-width: 80px;\n",
       "  font-size: 10pt;\n",
       "}\n",
       "#T_78fb1_row1_col0, #T_78fb1_row5_col8 {\n",
       "  background-color: #df6d84;\n",
       "  color: #f1f1f1;\n",
       "  max-width: 80px;\n",
       "  font-size: 10pt;\n",
       "}\n",
       "#T_78fb1_row1_col4 {\n",
       "  background-color: #db526e;\n",
       "  color: #f1f1f1;\n",
       "  max-width: 80px;\n",
       "  font-size: 10pt;\n",
       "}\n",
       "#T_78fb1_row1_col5 {\n",
       "  background-color: #e492a3;\n",
       "  color: #f1f1f1;\n",
       "  max-width: 80px;\n",
       "  font-size: 10pt;\n",
       "}\n",
       "#T_78fb1_row1_col6, #T_78fb1_row3_col8, #T_78fb1_row3_col12 {\n",
       "  background-color: #e17a8f;\n",
       "  color: #f1f1f1;\n",
       "  max-width: 80px;\n",
       "  font-size: 10pt;\n",
       "}\n",
       "#T_78fb1_row1_col7, #T_78fb1_row12_col10 {\n",
       "  background-color: #e17d91;\n",
       "  color: #f1f1f1;\n",
       "  max-width: 80px;\n",
       "  font-size: 10pt;\n",
       "}\n",
       "#T_78fb1_row1_col8, #T_78fb1_row10_col5, #T_78fb1_row12_col4 {\n",
       "  background-color: #e9b2bd;\n",
       "  color: #000000;\n",
       "  max-width: 80px;\n",
       "  font-size: 10pt;\n",
       "}\n",
       "#T_78fb1_row1_col9, #T_78fb1_row3_col5 {\n",
       "  background-color: #e7a3b0;\n",
       "  color: #000000;\n",
       "  max-width: 80px;\n",
       "  font-size: 10pt;\n",
       "}\n",
       "#T_78fb1_row1_col10, #T_78fb1_row10_col8 {\n",
       "  background-color: #e28396;\n",
       "  color: #f1f1f1;\n",
       "  max-width: 80px;\n",
       "  font-size: 10pt;\n",
       "}\n",
       "#T_78fb1_row1_col11, #T_78fb1_row10_col12, #T_78fb1_row12_col0 {\n",
       "  background-color: #e8abb7;\n",
       "  color: #000000;\n",
       "  max-width: 80px;\n",
       "  font-size: 10pt;\n",
       "}\n",
       "#T_78fb1_row1_col12, #T_78fb1_row9_col5 {\n",
       "  background-color: #ecc3cb;\n",
       "  color: #000000;\n",
       "  max-width: 80px;\n",
       "  font-size: 10pt;\n",
       "}\n",
       "#T_78fb1_row2_col0, #T_78fb1_row12_col6, #T_78fb1_row13_col4 {\n",
       "  background-color: #e491a1;\n",
       "  color: #f1f1f1;\n",
       "  max-width: 80px;\n",
       "  font-size: 10pt;\n",
       "}\n",
       "#T_78fb1_row2_col1, #T_78fb1_row9_col2, #T_78fb1_row10_col0 {\n",
       "  background-color: #e599a8;\n",
       "  color: #000000;\n",
       "  max-width: 80px;\n",
       "  font-size: 10pt;\n",
       "}\n",
       "#T_78fb1_row2_col3, #T_78fb1_row7_col6 {\n",
       "  background-color: #e8aeba;\n",
       "  color: #000000;\n",
       "  max-width: 80px;\n",
       "  font-size: 10pt;\n",
       "}\n",
       "#T_78fb1_row2_col5 {\n",
       "  background-color: #eab8c2;\n",
       "  color: #000000;\n",
       "  max-width: 80px;\n",
       "  font-size: 10pt;\n",
       "}\n",
       "#T_78fb1_row2_col6, #T_78fb1_row10_col11 {\n",
       "  background-color: #e9afbb;\n",
       "  color: #000000;\n",
       "  max-width: 80px;\n",
       "  font-size: 10pt;\n",
       "}\n",
       "#T_78fb1_row2_col7, #T_78fb1_row9_col11 {\n",
       "  background-color: #eff0f2;\n",
       "  color: #000000;\n",
       "  max-width: 80px;\n",
       "  font-size: 10pt;\n",
       "}\n",
       "#T_78fb1_row2_col9, #T_78fb1_row2_col11 {\n",
       "  background-color: #e0768b;\n",
       "  color: #f1f1f1;\n",
       "  max-width: 80px;\n",
       "  font-size: 10pt;\n",
       "}\n",
       "#T_78fb1_row2_col10, #T_78fb1_row8_col11 {\n",
       "  background-color: #ecc6ce;\n",
       "  color: #000000;\n",
       "  max-width: 80px;\n",
       "  font-size: 10pt;\n",
       "}\n",
       "#T_78fb1_row2_col12, #T_78fb1_row6_col7 {\n",
       "  background-color: #e0798d;\n",
       "  color: #f1f1f1;\n",
       "  max-width: 80px;\n",
       "  font-size: 10pt;\n",
       "}\n",
       "#T_78fb1_row2_col13 {\n",
       "  background-color: #d0dae8;\n",
       "  color: #000000;\n",
       "  max-width: 80px;\n",
       "  font-size: 10pt;\n",
       "}\n",
       "#T_78fb1_row3_col0 {\n",
       "  background-color: #ebbfc8;\n",
       "  color: #000000;\n",
       "  max-width: 80px;\n",
       "  font-size: 10pt;\n",
       "}\n",
       "#T_78fb1_row3_col1 {\n",
       "  background-color: #da4e6a;\n",
       "  color: #f1f1f1;\n",
       "  max-width: 80px;\n",
       "  font-size: 10pt;\n",
       "}\n",
       "#T_78fb1_row3_col2, #T_78fb1_row4_col10 {\n",
       "  background-color: #e07389;\n",
       "  color: #f1f1f1;\n",
       "  max-width: 80px;\n",
       "  font-size: 10pt;\n",
       "}\n",
       "#T_78fb1_row3_col4 {\n",
       "  background-color: #e48fa0;\n",
       "  color: #f1f1f1;\n",
       "  max-width: 80px;\n",
       "  font-size: 10pt;\n",
       "}\n",
       "#T_78fb1_row3_col6, #T_78fb1_row6_col0 {\n",
       "  background-color: #d8405e;\n",
       "  color: #f1f1f1;\n",
       "  max-width: 80px;\n",
       "  font-size: 10pt;\n",
       "}\n",
       "#T_78fb1_row3_col7, #T_78fb1_row5_col7, #T_78fb1_row9_col13 {\n",
       "  background-color: #dc5b75;\n",
       "  color: #f1f1f1;\n",
       "  max-width: 80px;\n",
       "  font-size: 10pt;\n",
       "}\n",
       "#T_78fb1_row3_col9, #T_78fb1_row10_col3 {\n",
       "  background-color: #e7a4b1;\n",
       "  color: #000000;\n",
       "  max-width: 80px;\n",
       "  font-size: 10pt;\n",
       "}\n",
       "#T_78fb1_row3_col10 {\n",
       "  background-color: #d8415f;\n",
       "  color: #f1f1f1;\n",
       "  max-width: 80px;\n",
       "  font-size: 10pt;\n",
       "}\n",
       "#T_78fb1_row3_col11 {\n",
       "  background-color: #e3889a;\n",
       "  color: #f1f1f1;\n",
       "  max-width: 80px;\n",
       "  font-size: 10pt;\n",
       "}\n",
       "#T_78fb1_row4_col0, #T_78fb1_row8_col4, #T_78fb1_row10_col1 {\n",
       "  background-color: #eabbc4;\n",
       "  color: #000000;\n",
       "  max-width: 80px;\n",
       "  font-size: 10pt;\n",
       "}\n",
       "#T_78fb1_row4_col2 {\n",
       "  background-color: #dc5e77;\n",
       "  color: #f1f1f1;\n",
       "  max-width: 80px;\n",
       "  font-size: 10pt;\n",
       "}\n",
       "#T_78fb1_row4_col3 {\n",
       "  background-color: #e69ead;\n",
       "  color: #000000;\n",
       "  max-width: 80px;\n",
       "  font-size: 10pt;\n",
       "}\n",
       "#T_78fb1_row4_col5 {\n",
       "  background-color: #e18093;\n",
       "  color: #f1f1f1;\n",
       "  max-width: 80px;\n",
       "  font-size: 10pt;\n",
       "}\n",
       "#T_78fb1_row4_col6, #T_78fb1_row8_col7, #T_78fb1_row13_col11 {\n",
       "  background-color: #d94a67;\n",
       "  color: #f1f1f1;\n",
       "  max-width: 80px;\n",
       "  font-size: 10pt;\n",
       "}\n",
       "#T_78fb1_row4_col7, #T_78fb1_row13_col0 {\n",
       "  background-color: #df7086;\n",
       "  color: #f1f1f1;\n",
       "  max-width: 80px;\n",
       "  font-size: 10pt;\n",
       "}\n",
       "#T_78fb1_row4_col8, #T_78fb1_row4_col9, #T_78fb1_row11_col6, #T_78fb1_row12_col5 {\n",
       "  background-color: #e38b9d;\n",
       "  color: #f1f1f1;\n",
       "  max-width: 80px;\n",
       "  font-size: 10pt;\n",
       "}\n",
       "#T_78fb1_row4_col12 {\n",
       "  background-color: #e595a5;\n",
       "  color: #000000;\n",
       "  max-width: 80px;\n",
       "  font-size: 10pt;\n",
       "}\n",
       "#T_78fb1_row4_col13, #T_78fb1_row6_col1 {\n",
       "  background-color: #db5872;\n",
       "  color: #f1f1f1;\n",
       "  max-width: 80px;\n",
       "  font-size: 10pt;\n",
       "}\n",
       "#T_78fb1_row5_col1, #T_78fb1_row5_col4, #T_78fb1_row8_col10 {\n",
       "  background-color: #de667e;\n",
       "  color: #f1f1f1;\n",
       "  max-width: 80px;\n",
       "  font-size: 10pt;\n",
       "}\n",
       "#T_78fb1_row5_col2, #T_78fb1_row6_col2 {\n",
       "  background-color: #e0778c;\n",
       "  color: #f1f1f1;\n",
       "  max-width: 80px;\n",
       "  font-size: 10pt;\n",
       "}\n",
       "#T_78fb1_row5_col3, #T_78fb1_row8_col6 {\n",
       "  background-color: #e59aa9;\n",
       "  color: #000000;\n",
       "  max-width: 80px;\n",
       "  font-size: 10pt;\n",
       "}\n",
       "#T_78fb1_row5_col9 {\n",
       "  background-color: #dd6179;\n",
       "  color: #f1f1f1;\n",
       "  max-width: 80px;\n",
       "  font-size: 10pt;\n",
       "}\n",
       "#T_78fb1_row5_col10, #T_78fb1_row6_col5 {\n",
       "  background-color: #d94865;\n",
       "  color: #f1f1f1;\n",
       "  max-width: 80px;\n",
       "  font-size: 10pt;\n",
       "}\n",
       "#T_78fb1_row5_col11 {\n",
       "  background-color: #e38a9c;\n",
       "  color: #f1f1f1;\n",
       "  max-width: 80px;\n",
       "  font-size: 10pt;\n",
       "}\n",
       "#T_78fb1_row5_col12, #T_78fb1_row5_col13 {\n",
       "  background-color: #da506b;\n",
       "  color: #f1f1f1;\n",
       "  max-width: 80px;\n",
       "  font-size: 10pt;\n",
       "}\n",
       "#T_78fb1_row6_col3 {\n",
       "  background-color: #d84361;\n",
       "  color: #f1f1f1;\n",
       "  max-width: 80px;\n",
       "  font-size: 10pt;\n",
       "}\n",
       "#T_78fb1_row6_col8 {\n",
       "  background-color: #db5570;\n",
       "  color: #f1f1f1;\n",
       "  max-width: 80px;\n",
       "  font-size: 10pt;\n",
       "}\n",
       "#T_78fb1_row6_col9 {\n",
       "  background-color: #dc5973;\n",
       "  color: #f1f1f1;\n",
       "  max-width: 80px;\n",
       "  font-size: 10pt;\n",
       "}\n",
       "#T_78fb1_row6_col11 {\n",
       "  background-color: #da516c;\n",
       "  color: #f1f1f1;\n",
       "  max-width: 80px;\n",
       "  font-size: 10pt;\n",
       "}\n",
       "#T_78fb1_row6_col12, #T_78fb1_row13_col1 {\n",
       "  background-color: #dd637c;\n",
       "  color: #f1f1f1;\n",
       "  max-width: 80px;\n",
       "  font-size: 10pt;\n",
       "}\n",
       "#T_78fb1_row6_col13, #T_78fb1_row7_col1 {\n",
       "  background-color: #e494a4;\n",
       "  color: #f1f1f1;\n",
       "  max-width: 80px;\n",
       "  font-size: 10pt;\n",
       "}\n",
       "#T_78fb1_row7_col2 {\n",
       "  background-color: #f1f1f2;\n",
       "  color: #000000;\n",
       "  max-width: 80px;\n",
       "  font-size: 10pt;\n",
       "}\n",
       "#T_78fb1_row7_col3 {\n",
       "  background-color: #e597a7;\n",
       "  color: #000000;\n",
       "  max-width: 80px;\n",
       "  font-size: 10pt;\n",
       "}\n",
       "#T_78fb1_row7_col4 {\n",
       "  background-color: #e69caa;\n",
       "  color: #000000;\n",
       "  max-width: 80px;\n",
       "  font-size: 10pt;\n",
       "}\n",
       "#T_78fb1_row7_col5, #T_78fb1_row13_col5 {\n",
       "  background-color: #e6a0ae;\n",
       "  color: #000000;\n",
       "  max-width: 80px;\n",
       "  font-size: 10pt;\n",
       "}\n",
       "#T_78fb1_row7_col8 {\n",
       "  background-color: #d73d5c;\n",
       "  color: #f1f1f1;\n",
       "  max-width: 80px;\n",
       "  font-size: 10pt;\n",
       "}\n",
       "#T_78fb1_row7_col9 {\n",
       "  background-color: #d94663;\n",
       "  color: #f1f1f1;\n",
       "  max-width: 80px;\n",
       "  font-size: 10pt;\n",
       "}\n",
       "#T_78fb1_row7_col10 {\n",
       "  background-color: #dbe2eb;\n",
       "  color: #000000;\n",
       "  max-width: 80px;\n",
       "  font-size: 10pt;\n",
       "}\n",
       "#T_78fb1_row7_col11, #T_78fb1_row12_col2 {\n",
       "  background-color: #de6b82;\n",
       "  color: #f1f1f1;\n",
       "  max-width: 80px;\n",
       "  font-size: 10pt;\n",
       "}\n",
       "#T_78fb1_row7_col12, #T_78fb1_row13_col3 {\n",
       "  background-color: #e28799;\n",
       "  color: #f1f1f1;\n",
       "  max-width: 80px;\n",
       "  font-size: 10pt;\n",
       "}\n",
       "#T_78fb1_row7_col13, #T_78fb1_row10_col13 {\n",
       "  background-color: #d4dde9;\n",
       "  color: #000000;\n",
       "  max-width: 80px;\n",
       "  font-size: 10pt;\n",
       "}\n",
       "#T_78fb1_row8_col0, #T_78fb1_row12_col11 {\n",
       "  background-color: #ebc1c9;\n",
       "  color: #000000;\n",
       "  max-width: 80px;\n",
       "  font-size: 10pt;\n",
       "}\n",
       "#T_78fb1_row8_col1, #T_78fb1_row12_col1, #T_78fb1_row12_col8 {\n",
       "  background-color: #edcdd3;\n",
       "  color: #000000;\n",
       "  max-width: 80px;\n",
       "  font-size: 10pt;\n",
       "}\n",
       "#T_78fb1_row8_col2 {\n",
       "  background-color: #d84462;\n",
       "  color: #f1f1f1;\n",
       "  max-width: 80px;\n",
       "  font-size: 10pt;\n",
       "}\n",
       "#T_78fb1_row8_col5 {\n",
       "  background-color: #eab7c1;\n",
       "  color: #000000;\n",
       "  max-width: 80px;\n",
       "  font-size: 10pt;\n",
       "}\n",
       "#T_78fb1_row8_col9 {\n",
       "  background-color: #eaecf0;\n",
       "  color: #000000;\n",
       "  max-width: 80px;\n",
       "  font-size: 10pt;\n",
       "}\n",
       "#T_78fb1_row8_col12 {\n",
       "  background-color: #efdde0;\n",
       "  color: #000000;\n",
       "  max-width: 80px;\n",
       "  font-size: 10pt;\n",
       "}\n",
       "#T_78fb1_row9_col0 {\n",
       "  background-color: #f2f1f1;\n",
       "  color: #000000;\n",
       "  max-width: 80px;\n",
       "  font-size: 10pt;\n",
       "}\n",
       "#T_78fb1_row9_col1, #T_78fb1_row10_col6 {\n",
       "  background-color: #eed4d9;\n",
       "  color: #000000;\n",
       "  max-width: 80px;\n",
       "  font-size: 10pt;\n",
       "}\n",
       "#T_78fb1_row9_col3 {\n",
       "  background-color: #f2ebec;\n",
       "  color: #000000;\n",
       "  max-width: 80px;\n",
       "  font-size: 10pt;\n",
       "}\n",
       "#T_78fb1_row9_col4 {\n",
       "  background-color: #edd0d6;\n",
       "  color: #000000;\n",
       "  max-width: 80px;\n",
       "  font-size: 10pt;\n",
       "}\n",
       "#T_78fb1_row9_col7 {\n",
       "  background-color: #df6f85;\n",
       "  color: #f1f1f1;\n",
       "  max-width: 80px;\n",
       "  font-size: 10pt;\n",
       "}\n",
       "#T_78fb1_row9_col8 {\n",
       "  background-color: #dce3ec;\n",
       "  color: #000000;\n",
       "  max-width: 80px;\n",
       "  font-size: 10pt;\n",
       "}\n",
       "#T_78fb1_row9_col12 {\n",
       "  background-color: #f2eff0;\n",
       "  color: #000000;\n",
       "  max-width: 80px;\n",
       "  font-size: 10pt;\n",
       "}\n",
       "#T_78fb1_row10_col2 {\n",
       "  background-color: #f0dee2;\n",
       "  color: #000000;\n",
       "  max-width: 80px;\n",
       "  font-size: 10pt;\n",
       "}\n",
       "#T_78fb1_row10_col4, #T_78fb1_row11_col1 {\n",
       "  background-color: #ebbec6;\n",
       "  color: #000000;\n",
       "  max-width: 80px;\n",
       "  font-size: 10pt;\n",
       "}\n",
       "#T_78fb1_row10_col7 {\n",
       "  background-color: #c9d6e6;\n",
       "  color: #000000;\n",
       "  max-width: 80px;\n",
       "  font-size: 10pt;\n",
       "}\n",
       "#T_78fb1_row11_col2 {\n",
       "  background-color: #df7288;\n",
       "  color: #f1f1f1;\n",
       "  max-width: 80px;\n",
       "  font-size: 10pt;\n",
       "}\n",
       "#T_78fb1_row11_col3, #T_78fb1_row11_col8 {\n",
       "  background-color: #eabcc5;\n",
       "  color: #000000;\n",
       "  max-width: 80px;\n",
       "  font-size: 10pt;\n",
       "}\n",
       "#T_78fb1_row11_col4 {\n",
       "  background-color: #e9b4be;\n",
       "  color: #000000;\n",
       "  max-width: 80px;\n",
       "  font-size: 10pt;\n",
       "}\n",
       "#T_78fb1_row11_col5 {\n",
       "  background-color: #ecc5cc;\n",
       "  color: #000000;\n",
       "  max-width: 80px;\n",
       "  font-size: 10pt;\n",
       "}\n",
       "#T_78fb1_row11_col7 {\n",
       "  background-color: #de6980;\n",
       "  color: #f1f1f1;\n",
       "  max-width: 80px;\n",
       "  font-size: 10pt;\n",
       "}\n",
       "#T_78fb1_row11_col9 {\n",
       "  background-color: #efdade;\n",
       "  color: #000000;\n",
       "  max-width: 80px;\n",
       "  font-size: 10pt;\n",
       "}\n",
       "#T_78fb1_row11_col10 {\n",
       "  background-color: #e38d9e;\n",
       "  color: #f1f1f1;\n",
       "  max-width: 80px;\n",
       "  font-size: 10pt;\n",
       "}\n",
       "#T_78fb1_row11_col12 {\n",
       "  background-color: #ecc8cf;\n",
       "  color: #000000;\n",
       "  max-width: 80px;\n",
       "  font-size: 10pt;\n",
       "}\n",
       "#T_78fb1_row12_col3 {\n",
       "  background-color: #e7a7b4;\n",
       "  color: #000000;\n",
       "  max-width: 80px;\n",
       "  font-size: 10pt;\n",
       "}\n",
       "#T_78fb1_row12_col7 {\n",
       "  background-color: #e17c90;\n",
       "  color: #f1f1f1;\n",
       "  max-width: 80px;\n",
       "  font-size: 10pt;\n",
       "}\n",
       "#T_78fb1_row12_col9 {\n",
       "  background-color: #edcfd5;\n",
       "  color: #000000;\n",
       "  max-width: 80px;\n",
       "  font-size: 10pt;\n",
       "}\n",
       "#T_78fb1_row13_col2 {\n",
       "  background-color: #ccd8e7;\n",
       "  color: #000000;\n",
       "  max-width: 80px;\n",
       "  font-size: 10pt;\n",
       "}\n",
       "#T_78fb1_row13_col6 {\n",
       "  background-color: #edccd2;\n",
       "  color: #000000;\n",
       "  max-width: 80px;\n",
       "  font-size: 10pt;\n",
       "}\n",
       "#T_78fb1_row13_col7 {\n",
       "  background-color: #cfdae7;\n",
       "  color: #000000;\n",
       "  max-width: 80px;\n",
       "  font-size: 10pt;\n",
       "}\n",
       "#T_78fb1_row13_col10 {\n",
       "  background-color: #e2e7ee;\n",
       "  color: #000000;\n",
       "  max-width: 80px;\n",
       "  font-size: 10pt;\n",
       "}\n",
       "#T_78fb1_row13_col12 {\n",
       "  background-color: #db546f;\n",
       "  color: #f1f1f1;\n",
       "  max-width: 80px;\n",
       "  font-size: 10pt;\n",
       "}\n",
       "</style>\n",
       "<table id=\"T_78fb1\">\n",
       "  <caption>Hover to magify</caption>\n",
       "  <thead>\n",
       "    <tr>\n",
       "      <th class=\"blank level0\" >&nbsp;</th>\n",
       "      <th id=\"T_78fb1_level0_col0\" class=\"col_heading level0 col0\" >age</th>\n",
       "      <th id=\"T_78fb1_level0_col1\" class=\"col_heading level0 col1\" >sex</th>\n",
       "      <th id=\"T_78fb1_level0_col2\" class=\"col_heading level0 col2\" >cp</th>\n",
       "      <th id=\"T_78fb1_level0_col3\" class=\"col_heading level0 col3\" >trestbps</th>\n",
       "      <th id=\"T_78fb1_level0_col4\" class=\"col_heading level0 col4\" >chol</th>\n",
       "      <th id=\"T_78fb1_level0_col5\" class=\"col_heading level0 col5\" >fbs</th>\n",
       "      <th id=\"T_78fb1_level0_col6\" class=\"col_heading level0 col6\" >restecg</th>\n",
       "      <th id=\"T_78fb1_level0_col7\" class=\"col_heading level0 col7\" >thalach</th>\n",
       "      <th id=\"T_78fb1_level0_col8\" class=\"col_heading level0 col8\" >exang</th>\n",
       "      <th id=\"T_78fb1_level0_col9\" class=\"col_heading level0 col9\" >oldpeak</th>\n",
       "      <th id=\"T_78fb1_level0_col10\" class=\"col_heading level0 col10\" >slope</th>\n",
       "      <th id=\"T_78fb1_level0_col11\" class=\"col_heading level0 col11\" >ca</th>\n",
       "      <th id=\"T_78fb1_level0_col12\" class=\"col_heading level0 col12\" >thal</th>\n",
       "      <th id=\"T_78fb1_level0_col13\" class=\"col_heading level0 col13\" >target</th>\n",
       "    </tr>\n",
       "  </thead>\n",
       "  <tbody>\n",
       "    <tr>\n",
       "      <th id=\"T_78fb1_level0_row0\" class=\"row_heading level0 row0\" >age</th>\n",
       "      <td id=\"T_78fb1_row0_col0\" class=\"data row0 col0\" >1.00</td>\n",
       "      <td id=\"T_78fb1_row0_col1\" class=\"data row0 col1\" >-0.10</td>\n",
       "      <td id=\"T_78fb1_row0_col2\" class=\"data row0 col2\" >-0.07</td>\n",
       "      <td id=\"T_78fb1_row0_col3\" class=\"data row0 col3\" >0.27</td>\n",
       "      <td id=\"T_78fb1_row0_col4\" class=\"data row0 col4\" >0.22</td>\n",
       "      <td id=\"T_78fb1_row0_col5\" class=\"data row0 col5\" >0.12</td>\n",
       "      <td id=\"T_78fb1_row0_col6\" class=\"data row0 col6\" >-0.13</td>\n",
       "      <td id=\"T_78fb1_row0_col7\" class=\"data row0 col7\" >-0.39</td>\n",
       "      <td id=\"T_78fb1_row0_col8\" class=\"data row0 col8\" >0.09</td>\n",
       "      <td id=\"T_78fb1_row0_col9\" class=\"data row0 col9\" >0.21</td>\n",
       "      <td id=\"T_78fb1_row0_col10\" class=\"data row0 col10\" >-0.17</td>\n",
       "      <td id=\"T_78fb1_row0_col11\" class=\"data row0 col11\" >0.27</td>\n",
       "      <td id=\"T_78fb1_row0_col12\" class=\"data row0 col12\" >0.07</td>\n",
       "      <td id=\"T_78fb1_row0_col13\" class=\"data row0 col13\" >-0.23</td>\n",
       "    </tr>\n",
       "    <tr>\n",
       "      <th id=\"T_78fb1_level0_row1\" class=\"row_heading level0 row1\" >sex</th>\n",
       "      <td id=\"T_78fb1_row1_col0\" class=\"data row1 col0\" >-0.10</td>\n",
       "      <td id=\"T_78fb1_row1_col1\" class=\"data row1 col1\" >1.00</td>\n",
       "      <td id=\"T_78fb1_row1_col2\" class=\"data row1 col2\" >-0.04</td>\n",
       "      <td id=\"T_78fb1_row1_col3\" class=\"data row1 col3\" >-0.08</td>\n",
       "      <td id=\"T_78fb1_row1_col4\" class=\"data row1 col4\" >-0.20</td>\n",
       "      <td id=\"T_78fb1_row1_col5\" class=\"data row1 col5\" >0.03</td>\n",
       "      <td id=\"T_78fb1_row1_col6\" class=\"data row1 col6\" >-0.06</td>\n",
       "      <td id=\"T_78fb1_row1_col7\" class=\"data row1 col7\" >-0.05</td>\n",
       "      <td id=\"T_78fb1_row1_col8\" class=\"data row1 col8\" >0.14</td>\n",
       "      <td id=\"T_78fb1_row1_col9\" class=\"data row1 col9\" >0.08</td>\n",
       "      <td id=\"T_78fb1_row1_col10\" class=\"data row1 col10\" >-0.03</td>\n",
       "      <td id=\"T_78fb1_row1_col11\" class=\"data row1 col11\" >0.11</td>\n",
       "      <td id=\"T_78fb1_row1_col12\" class=\"data row1 col12\" >0.20</td>\n",
       "      <td id=\"T_78fb1_row1_col13\" class=\"data row1 col13\" >-0.28</td>\n",
       "    </tr>\n",
       "    <tr>\n",
       "      <th id=\"T_78fb1_level0_row2\" class=\"row_heading level0 row2\" >cp</th>\n",
       "      <td id=\"T_78fb1_row2_col0\" class=\"data row2 col0\" >-0.07</td>\n",
       "      <td id=\"T_78fb1_row2_col1\" class=\"data row2 col1\" >-0.04</td>\n",
       "      <td id=\"T_78fb1_row2_col2\" class=\"data row2 col2\" >1.00</td>\n",
       "      <td id=\"T_78fb1_row2_col3\" class=\"data row2 col3\" >0.04</td>\n",
       "      <td id=\"T_78fb1_row2_col4\" class=\"data row2 col4\" >-0.08</td>\n",
       "      <td id=\"T_78fb1_row2_col5\" class=\"data row2 col5\" >0.08</td>\n",
       "      <td id=\"T_78fb1_row2_col6\" class=\"data row2 col6\" >0.04</td>\n",
       "      <td id=\"T_78fb1_row2_col7\" class=\"data row2 col7\" >0.31</td>\n",
       "      <td id=\"T_78fb1_row2_col8\" class=\"data row2 col8\" >-0.40</td>\n",
       "      <td id=\"T_78fb1_row2_col9\" class=\"data row2 col9\" >-0.17</td>\n",
       "      <td id=\"T_78fb1_row2_col10\" class=\"data row2 col10\" >0.13</td>\n",
       "      <td id=\"T_78fb1_row2_col11\" class=\"data row2 col11\" >-0.18</td>\n",
       "      <td id=\"T_78fb1_row2_col12\" class=\"data row2 col12\" >-0.16</td>\n",
       "      <td id=\"T_78fb1_row2_col13\" class=\"data row2 col13\" >0.43</td>\n",
       "    </tr>\n",
       "    <tr>\n",
       "      <th id=\"T_78fb1_level0_row3\" class=\"row_heading level0 row3\" >trestbps</th>\n",
       "      <td id=\"T_78fb1_row3_col0\" class=\"data row3 col0\" >0.27</td>\n",
       "      <td id=\"T_78fb1_row3_col1\" class=\"data row3 col1\" >-0.08</td>\n",
       "      <td id=\"T_78fb1_row3_col2\" class=\"data row3 col2\" >0.04</td>\n",
       "      <td id=\"T_78fb1_row3_col3\" class=\"data row3 col3\" >1.00</td>\n",
       "      <td id=\"T_78fb1_row3_col4\" class=\"data row3 col4\" >0.13</td>\n",
       "      <td id=\"T_78fb1_row3_col5\" class=\"data row3 col5\" >0.18</td>\n",
       "      <td id=\"T_78fb1_row3_col6\" class=\"data row3 col6\" >-0.12</td>\n",
       "      <td id=\"T_78fb1_row3_col7\" class=\"data row3 col7\" >-0.04</td>\n",
       "      <td id=\"T_78fb1_row3_col8\" class=\"data row3 col8\" >0.06</td>\n",
       "      <td id=\"T_78fb1_row3_col9\" class=\"data row3 col9\" >0.19</td>\n",
       "      <td id=\"T_78fb1_row3_col10\" class=\"data row3 col10\" >-0.12</td>\n",
       "      <td id=\"T_78fb1_row3_col11\" class=\"data row3 col11\" >0.10</td>\n",
       "      <td id=\"T_78fb1_row3_col12\" class=\"data row3 col12\" >0.06</td>\n",
       "      <td id=\"T_78fb1_row3_col13\" class=\"data row3 col13\" >-0.14</td>\n",
       "    </tr>\n",
       "    <tr>\n",
       "      <th id=\"T_78fb1_level0_row4\" class=\"row_heading level0 row4\" >chol</th>\n",
       "      <td id=\"T_78fb1_row4_col0\" class=\"data row4 col0\" >0.22</td>\n",
       "      <td id=\"T_78fb1_row4_col1\" class=\"data row4 col1\" >-0.20</td>\n",
       "      <td id=\"T_78fb1_row4_col2\" class=\"data row4 col2\" >-0.08</td>\n",
       "      <td id=\"T_78fb1_row4_col3\" class=\"data row4 col3\" >0.13</td>\n",
       "      <td id=\"T_78fb1_row4_col4\" class=\"data row4 col4\" >1.00</td>\n",
       "      <td id=\"T_78fb1_row4_col5\" class=\"data row4 col5\" >0.03</td>\n",
       "      <td id=\"T_78fb1_row4_col6\" class=\"data row4 col6\" >-0.15</td>\n",
       "      <td id=\"T_78fb1_row4_col7\" class=\"data row4 col7\" >-0.02</td>\n",
       "      <td id=\"T_78fb1_row4_col8\" class=\"data row4 col8\" >0.07</td>\n",
       "      <td id=\"T_78fb1_row4_col9\" class=\"data row4 col9\" >0.06</td>\n",
       "      <td id=\"T_78fb1_row4_col10\" class=\"data row4 col10\" >-0.01</td>\n",
       "      <td id=\"T_78fb1_row4_col11\" class=\"data row4 col11\" >0.07</td>\n",
       "      <td id=\"T_78fb1_row4_col12\" class=\"data row4 col12\" >0.10</td>\n",
       "      <td id=\"T_78fb1_row4_col13\" class=\"data row4 col13\" >-0.10</td>\n",
       "    </tr>\n",
       "    <tr>\n",
       "      <th id=\"T_78fb1_level0_row5\" class=\"row_heading level0 row5\" >fbs</th>\n",
       "      <td id=\"T_78fb1_row5_col0\" class=\"data row5 col0\" >0.12</td>\n",
       "      <td id=\"T_78fb1_row5_col1\" class=\"data row5 col1\" >0.03</td>\n",
       "      <td id=\"T_78fb1_row5_col2\" class=\"data row5 col2\" >0.08</td>\n",
       "      <td id=\"T_78fb1_row5_col3\" class=\"data row5 col3\" >0.18</td>\n",
       "      <td id=\"T_78fb1_row5_col4\" class=\"data row5 col4\" >0.03</td>\n",
       "      <td id=\"T_78fb1_row5_col5\" class=\"data row5 col5\" >1.00</td>\n",
       "      <td id=\"T_78fb1_row5_col6\" class=\"data row5 col6\" >-0.10</td>\n",
       "      <td id=\"T_78fb1_row5_col7\" class=\"data row5 col7\" >-0.01</td>\n",
       "      <td id=\"T_78fb1_row5_col8\" class=\"data row5 col8\" >0.05</td>\n",
       "      <td id=\"T_78fb1_row5_col9\" class=\"data row5 col9\" >0.01</td>\n",
       "      <td id=\"T_78fb1_row5_col10\" class=\"data row5 col10\" >-0.06</td>\n",
       "      <td id=\"T_78fb1_row5_col11\" class=\"data row5 col11\" >0.14</td>\n",
       "      <td id=\"T_78fb1_row5_col12\" class=\"data row5 col12\" >-0.04</td>\n",
       "      <td id=\"T_78fb1_row5_col13\" class=\"data row5 col13\" >-0.04</td>\n",
       "    </tr>\n",
       "    <tr>\n",
       "      <th id=\"T_78fb1_level0_row6\" class=\"row_heading level0 row6\" >restecg</th>\n",
       "      <td id=\"T_78fb1_row6_col0\" class=\"data row6 col0\" >-0.13</td>\n",
       "      <td id=\"T_78fb1_row6_col1\" class=\"data row6 col1\" >-0.06</td>\n",
       "      <td id=\"T_78fb1_row6_col2\" class=\"data row6 col2\" >0.04</td>\n",
       "      <td id=\"T_78fb1_row6_col3\" class=\"data row6 col3\" >-0.12</td>\n",
       "      <td id=\"T_78fb1_row6_col4\" class=\"data row6 col4\" >-0.15</td>\n",
       "      <td id=\"T_78fb1_row6_col5\" class=\"data row6 col5\" >-0.10</td>\n",
       "      <td id=\"T_78fb1_row6_col6\" class=\"data row6 col6\" >1.00</td>\n",
       "      <td id=\"T_78fb1_row6_col7\" class=\"data row6 col7\" >0.05</td>\n",
       "      <td id=\"T_78fb1_row6_col8\" class=\"data row6 col8\" >-0.07</td>\n",
       "      <td id=\"T_78fb1_row6_col9\" class=\"data row6 col9\" >-0.05</td>\n",
       "      <td id=\"T_78fb1_row6_col10\" class=\"data row6 col10\" >0.09</td>\n",
       "      <td id=\"T_78fb1_row6_col11\" class=\"data row6 col11\" >-0.08</td>\n",
       "      <td id=\"T_78fb1_row6_col12\" class=\"data row6 col12\" >-0.02</td>\n",
       "      <td id=\"T_78fb1_row6_col13\" class=\"data row6 col13\" >0.13</td>\n",
       "    </tr>\n",
       "    <tr>\n",
       "      <th id=\"T_78fb1_level0_row7\" class=\"row_heading level0 row7\" >thalach</th>\n",
       "      <td id=\"T_78fb1_row7_col0\" class=\"data row7 col0\" >-0.39</td>\n",
       "      <td id=\"T_78fb1_row7_col1\" class=\"data row7 col1\" >-0.05</td>\n",
       "      <td id=\"T_78fb1_row7_col2\" class=\"data row7 col2\" >0.31</td>\n",
       "      <td id=\"T_78fb1_row7_col3\" class=\"data row7 col3\" >-0.04</td>\n",
       "      <td id=\"T_78fb1_row7_col4\" class=\"data row7 col4\" >-0.02</td>\n",
       "      <td id=\"T_78fb1_row7_col5\" class=\"data row7 col5\" >-0.01</td>\n",
       "      <td id=\"T_78fb1_row7_col6\" class=\"data row7 col6\" >0.05</td>\n",
       "      <td id=\"T_78fb1_row7_col7\" class=\"data row7 col7\" >1.00</td>\n",
       "      <td id=\"T_78fb1_row7_col8\" class=\"data row7 col8\" >-0.38</td>\n",
       "      <td id=\"T_78fb1_row7_col9\" class=\"data row7 col9\" >-0.35</td>\n",
       "      <td id=\"T_78fb1_row7_col10\" class=\"data row7 col10\" >0.40</td>\n",
       "      <td id=\"T_78fb1_row7_col11\" class=\"data row7 col11\" >-0.21</td>\n",
       "      <td id=\"T_78fb1_row7_col12\" class=\"data row7 col12\" >-0.10</td>\n",
       "      <td id=\"T_78fb1_row7_col13\" class=\"data row7 col13\" >0.42</td>\n",
       "    </tr>\n",
       "    <tr>\n",
       "      <th id=\"T_78fb1_level0_row8\" class=\"row_heading level0 row8\" >exang</th>\n",
       "      <td id=\"T_78fb1_row8_col0\" class=\"data row8 col0\" >0.09</td>\n",
       "      <td id=\"T_78fb1_row8_col1\" class=\"data row8 col1\" >0.14</td>\n",
       "      <td id=\"T_78fb1_row8_col2\" class=\"data row8 col2\" >-0.40</td>\n",
       "      <td id=\"T_78fb1_row8_col3\" class=\"data row8 col3\" >0.06</td>\n",
       "      <td id=\"T_78fb1_row8_col4\" class=\"data row8 col4\" >0.07</td>\n",
       "      <td id=\"T_78fb1_row8_col5\" class=\"data row8 col5\" >0.05</td>\n",
       "      <td id=\"T_78fb1_row8_col6\" class=\"data row8 col6\" >-0.07</td>\n",
       "      <td id=\"T_78fb1_row8_col7\" class=\"data row8 col7\" >-0.38</td>\n",
       "      <td id=\"T_78fb1_row8_col8\" class=\"data row8 col8\" >1.00</td>\n",
       "      <td id=\"T_78fb1_row8_col9\" class=\"data row8 col9\" >0.31</td>\n",
       "      <td id=\"T_78fb1_row8_col10\" class=\"data row8 col10\" >-0.27</td>\n",
       "      <td id=\"T_78fb1_row8_col11\" class=\"data row8 col11\" >0.11</td>\n",
       "      <td id=\"T_78fb1_row8_col12\" class=\"data row8 col12\" >0.20</td>\n",
       "      <td id=\"T_78fb1_row8_col13\" class=\"data row8 col13\" >-0.44</td>\n",
       "    </tr>\n",
       "    <tr>\n",
       "      <th id=\"T_78fb1_level0_row9\" class=\"row_heading level0 row9\" >oldpeak</th>\n",
       "      <td id=\"T_78fb1_row9_col0\" class=\"data row9 col0\" >0.21</td>\n",
       "      <td id=\"T_78fb1_row9_col1\" class=\"data row9 col1\" >0.08</td>\n",
       "      <td id=\"T_78fb1_row9_col2\" class=\"data row9 col2\" >-0.17</td>\n",
       "      <td id=\"T_78fb1_row9_col3\" class=\"data row9 col3\" >0.19</td>\n",
       "      <td id=\"T_78fb1_row9_col4\" class=\"data row9 col4\" >0.06</td>\n",
       "      <td id=\"T_78fb1_row9_col5\" class=\"data row9 col5\" >0.01</td>\n",
       "      <td id=\"T_78fb1_row9_col6\" class=\"data row9 col6\" >-0.05</td>\n",
       "      <td id=\"T_78fb1_row9_col7\" class=\"data row9 col7\" >-0.35</td>\n",
       "      <td id=\"T_78fb1_row9_col8\" class=\"data row9 col8\" >0.31</td>\n",
       "      <td id=\"T_78fb1_row9_col9\" class=\"data row9 col9\" >1.00</td>\n",
       "      <td id=\"T_78fb1_row9_col10\" class=\"data row9 col10\" >-0.58</td>\n",
       "      <td id=\"T_78fb1_row9_col11\" class=\"data row9 col11\" >0.22</td>\n",
       "      <td id=\"T_78fb1_row9_col12\" class=\"data row9 col12\" >0.20</td>\n",
       "      <td id=\"T_78fb1_row9_col13\" class=\"data row9 col13\" >-0.44</td>\n",
       "    </tr>\n",
       "    <tr>\n",
       "      <th id=\"T_78fb1_level0_row10\" class=\"row_heading level0 row10\" >slope</th>\n",
       "      <td id=\"T_78fb1_row10_col0\" class=\"data row10 col0\" >-0.17</td>\n",
       "      <td id=\"T_78fb1_row10_col1\" class=\"data row10 col1\" >-0.03</td>\n",
       "      <td id=\"T_78fb1_row10_col2\" class=\"data row10 col2\" >0.13</td>\n",
       "      <td id=\"T_78fb1_row10_col3\" class=\"data row10 col3\" >-0.12</td>\n",
       "      <td id=\"T_78fb1_row10_col4\" class=\"data row10 col4\" >-0.01</td>\n",
       "      <td id=\"T_78fb1_row10_col5\" class=\"data row10 col5\" >-0.06</td>\n",
       "      <td id=\"T_78fb1_row10_col6\" class=\"data row10 col6\" >0.09</td>\n",
       "      <td id=\"T_78fb1_row10_col7\" class=\"data row10 col7\" >0.40</td>\n",
       "      <td id=\"T_78fb1_row10_col8\" class=\"data row10 col8\" >-0.27</td>\n",
       "      <td id=\"T_78fb1_row10_col9\" class=\"data row10 col9\" >-0.58</td>\n",
       "      <td id=\"T_78fb1_row10_col10\" class=\"data row10 col10\" >1.00</td>\n",
       "      <td id=\"T_78fb1_row10_col11\" class=\"data row10 col11\" >-0.07</td>\n",
       "      <td id=\"T_78fb1_row10_col12\" class=\"data row10 col12\" >-0.09</td>\n",
       "      <td id=\"T_78fb1_row10_col13\" class=\"data row10 col13\" >0.35</td>\n",
       "    </tr>\n",
       "    <tr>\n",
       "      <th id=\"T_78fb1_level0_row11\" class=\"row_heading level0 row11\" >ca</th>\n",
       "      <td id=\"T_78fb1_row11_col0\" class=\"data row11 col0\" >0.27</td>\n",
       "      <td id=\"T_78fb1_row11_col1\" class=\"data row11 col1\" >0.11</td>\n",
       "      <td id=\"T_78fb1_row11_col2\" class=\"data row11 col2\" >-0.18</td>\n",
       "      <td id=\"T_78fb1_row11_col3\" class=\"data row11 col3\" >0.10</td>\n",
       "      <td id=\"T_78fb1_row11_col4\" class=\"data row11 col4\" >0.07</td>\n",
       "      <td id=\"T_78fb1_row11_col5\" class=\"data row11 col5\" >0.14</td>\n",
       "      <td id=\"T_78fb1_row11_col6\" class=\"data row11 col6\" >-0.08</td>\n",
       "      <td id=\"T_78fb1_row11_col7\" class=\"data row11 col7\" >-0.21</td>\n",
       "      <td id=\"T_78fb1_row11_col8\" class=\"data row11 col8\" >0.11</td>\n",
       "      <td id=\"T_78fb1_row11_col9\" class=\"data row11 col9\" >0.22</td>\n",
       "      <td id=\"T_78fb1_row11_col10\" class=\"data row11 col10\" >-0.07</td>\n",
       "      <td id=\"T_78fb1_row11_col11\" class=\"data row11 col11\" >1.00</td>\n",
       "      <td id=\"T_78fb1_row11_col12\" class=\"data row11 col12\" >0.15</td>\n",
       "      <td id=\"T_78fb1_row11_col13\" class=\"data row11 col13\" >-0.38</td>\n",
       "    </tr>\n",
       "    <tr>\n",
       "      <th id=\"T_78fb1_level0_row12\" class=\"row_heading level0 row12\" >thal</th>\n",
       "      <td id=\"T_78fb1_row12_col0\" class=\"data row12 col0\" >0.07</td>\n",
       "      <td id=\"T_78fb1_row12_col1\" class=\"data row12 col1\" >0.20</td>\n",
       "      <td id=\"T_78fb1_row12_col2\" class=\"data row12 col2\" >-0.16</td>\n",
       "      <td id=\"T_78fb1_row12_col3\" class=\"data row12 col3\" >0.06</td>\n",
       "      <td id=\"T_78fb1_row12_col4\" class=\"data row12 col4\" >0.10</td>\n",
       "      <td id=\"T_78fb1_row12_col5\" class=\"data row12 col5\" >-0.04</td>\n",
       "      <td id=\"T_78fb1_row12_col6\" class=\"data row12 col6\" >-0.02</td>\n",
       "      <td id=\"T_78fb1_row12_col7\" class=\"data row12 col7\" >-0.10</td>\n",
       "      <td id=\"T_78fb1_row12_col8\" class=\"data row12 col8\" >0.20</td>\n",
       "      <td id=\"T_78fb1_row12_col9\" class=\"data row12 col9\" >0.20</td>\n",
       "      <td id=\"T_78fb1_row12_col10\" class=\"data row12 col10\" >-0.09</td>\n",
       "      <td id=\"T_78fb1_row12_col11\" class=\"data row12 col11\" >0.15</td>\n",
       "      <td id=\"T_78fb1_row12_col12\" class=\"data row12 col12\" >1.00</td>\n",
       "      <td id=\"T_78fb1_row12_col13\" class=\"data row12 col13\" >-0.34</td>\n",
       "    </tr>\n",
       "    <tr>\n",
       "      <th id=\"T_78fb1_level0_row13\" class=\"row_heading level0 row13\" >target</th>\n",
       "      <td id=\"T_78fb1_row13_col0\" class=\"data row13 col0\" >-0.23</td>\n",
       "      <td id=\"T_78fb1_row13_col1\" class=\"data row13 col1\" >-0.28</td>\n",
       "      <td id=\"T_78fb1_row13_col2\" class=\"data row13 col2\" >0.43</td>\n",
       "      <td id=\"T_78fb1_row13_col3\" class=\"data row13 col3\" >-0.14</td>\n",
       "      <td id=\"T_78fb1_row13_col4\" class=\"data row13 col4\" >-0.10</td>\n",
       "      <td id=\"T_78fb1_row13_col5\" class=\"data row13 col5\" >-0.04</td>\n",
       "      <td id=\"T_78fb1_row13_col6\" class=\"data row13 col6\" >0.13</td>\n",
       "      <td id=\"T_78fb1_row13_col7\" class=\"data row13 col7\" >0.42</td>\n",
       "      <td id=\"T_78fb1_row13_col8\" class=\"data row13 col8\" >-0.44</td>\n",
       "      <td id=\"T_78fb1_row13_col9\" class=\"data row13 col9\" >-0.44</td>\n",
       "      <td id=\"T_78fb1_row13_col10\" class=\"data row13 col10\" >0.35</td>\n",
       "      <td id=\"T_78fb1_row13_col11\" class=\"data row13 col11\" >-0.38</td>\n",
       "      <td id=\"T_78fb1_row13_col12\" class=\"data row13 col12\" >-0.34</td>\n",
       "      <td id=\"T_78fb1_row13_col13\" class=\"data row13 col13\" >1.00</td>\n",
       "    </tr>\n",
       "  </tbody>\n",
       "</table>\n"
      ],
      "text/plain": [
       "<pandas.io.formats.style.Styler at 0x1aa4f607880>"
      ]
     },
     "execution_count": 3,
     "metadata": {},
     "output_type": "execute_result"
    }
   ],
   "source": [
    "cmap =sns.diverging_palette(5, 250, as_cmap=True)\n",
    "def magnify():\n",
    "    return [dict(selector=\"th\",\n",
    "                 props=[(\"font-size\", \"7pt\")]),\n",
    "            dict(selector=\"td\",\n",
    "                 props=[('padding', \"0em 0em\")]),\n",
    "            dict(selector=\"th:hover\",\n",
    "                 props=[(\"font-size\", \"12pt\")]),\n",
    "            dict(selector=\"tr:hover td:hover\",\n",
    "                 props=[('max-width', '200px'),\n",
    "                        ('font-size', '12pt')])\n",
    "]\n",
    "df.corr().style.background_gradient(cmap, axis=1)\\\n",
    "    .set_properties(**{'max-width': '80px', 'font-size': '10pt'})\\\n",
    "    .set_caption(\"Hover to magify\")\\\n",
    "    .set_precision(2)\\\n",
    "    .set_table_styles(magnify())"
   ]
  },
  {
   "cell_type": "code",
   "execution_count": 410,
   "id": "d16c7756",
   "metadata": {},
   "outputs": [],
   "source": [
    "n_df = df[['age','sex','cp', 'trestbps','chol','fbs',\n",
    "       'restecg','thalach', 'exang', 'oldpeak','slope','ca','thal']]\n",
    "target = df['target']"
   ]
  },
  {
   "cell_type": "code",
   "execution_count": 419,
   "id": "1867bcbd",
   "metadata": {},
   "outputs": [],
   "source": [
    "X_train, X_test, y_train, y_test = train_test_split(n_df,\n",
    "                                                    target,\n",
    "                                                    test_size=0.2)"
   ]
  },
  {
   "cell_type": "code",
   "execution_count": 420,
   "id": "8f22ed05",
   "metadata": {},
   "outputs": [
    {
     "name": "stdout",
     "output_type": "stream",
     "text": [
      "LDA Accuracy: 0.9853658536585366\n"
     ]
    }
   ],
   "source": [
    "tree_model = tree.DecisionTreeClassifier()\n",
    "tree_preds = tree_model.fit(X_train, y_train).predict(X_test)\n",
    "tree_acc = accuracy_score(y_test, tree_preds)\n",
    "print('LDA Accuracy: {}'.format(tree_acc))"
   ]
  },
  {
   "cell_type": "code",
   "execution_count": 407,
   "id": "33ba94f9",
   "metadata": {},
   "outputs": [
    {
     "data": {
      "image/png": "[encoded data removed]",
      "text/plain": [
       "<Figure size 500x500 with 1 Axes>"
      ]
     },
     "metadata": {},
     "output_type": "display_data"
    }
   ],
   "source": [
    "from sklearn.preprocessing import StandardScaler\n",
    "from sklearn.svm import SVC\n",
    "from sklearn.metrics import confusion_matrix\n",
    "from sklearn.metrics import precision_score, recall_score, f1_score, accuracy_score\n",
    "\n",
    "# Calculate the confusion matrix\n",
    "#\n",
    "conf_matrix = confusion_matrix(y_test, tree_preds.round(0).astype(int),normalize='true')\n",
    "# Print the confusion matrix using Matplotlib\n",
    "#\n",
    "fig, ax = plt.subplots(figsize=(5, 5))\n",
    "ax.matshow(conf_matrix, cmap=plt.cm.Oranges, alpha=0.3)\n",
    "for i in range(conf_matrix.shape[0]):\n",
    "    for j in range(conf_matrix.shape[1]):\n",
    "        ax.text(x=j, y=i,s=str(round(conf_matrix[i, j]*100,1))+'%', va='center', ha='center', size='xx-large')\n",
    " \n",
    "plt.xlabel('Predictions', fontsize=18)\n",
    "plt.ylabel('Actuals', fontsize=18)\n",
    "plt.title('Decision Tree - General', fontsize=18)\n",
    "plt.show()"
   ]
  },
  {
   "cell_type": "code",
   "execution_count": 8,
   "id": "cc88ad93",
   "metadata": {},
   "outputs": [
    {
     "name": "stdout",
     "output_type": "stream",
     "text": [
      "Recall: 0.969697\n"
     ]
    }
   ],
   "source": [
    "from sklearn.metrics import recall_score \n",
    "recall = recall_score(y_test, tree_preds)\n",
    "print('Recall: %f' % recall)"
   ]
  },
  {
   "cell_type": "code",
   "execution_count": 9,
   "id": "3a5a4c6d",
   "metadata": {},
   "outputs": [
    {
     "name": "stdout",
     "output_type": "stream",
     "text": [
      "F1-Score: 0.984615\n"
     ]
    }
   ],
   "source": [
    "from sklearn.metrics import f1_score \n",
    "f1 = f1_score(y_test, tree_preds)\n",
    "print('F1-Score: %f' % f1)"
   ]
  },
  {
   "cell_type": "code",
   "execution_count": 126,
   "id": "35352869",
   "metadata": {},
   "outputs": [
    {
     "name": "stdout",
     "output_type": "stream",
     "text": [
      "              precision    recall  f1-score   support\n",
      "\n",
      "           0       1.00      0.97      0.98        99\n",
      "           1       0.97      1.00      0.99       106\n",
      "\n",
      "    accuracy                           0.99       205\n",
      "   macro avg       0.99      0.98      0.99       205\n",
      "weighted avg       0.99      0.99      0.99       205\n",
      "\n"
     ]
    }
   ],
   "source": [
    "from sklearn.metrics import classification_report \n",
    "classification_report = classification_report(y_test, tree_preds)\n",
    "print(classification_report)"
   ]
  },
  {
   "cell_type": "code",
   "execution_count": 11,
   "id": "4af114f3",
   "metadata": {},
   "outputs": [],
   "source": [
    "from sklearn.metrics import roc_curve\n",
    "tree_prob = tree_model.predict_proba(X_test)\n",
    "probs = tree_prob[:, 1]\n",
    "rfp,rvp,lim = roc_curve(y_test, probs)"
   ]
  },
  {
   "cell_type": "code",
   "execution_count": 12,
   "id": "dcc7c626",
   "metadata": {},
   "outputs": [
    {
     "data": {
      "image/png": "[encoded data removed]",
      "text/plain": [
       "<Figure size 640x480 with 1 Axes>"
      ]
     },
     "metadata": {},
     "output_type": "display_data"
    }
   ],
   "source": [
    "plt.plot(rfp, rvp, marker='.', label='Decision Tree Classifier',color=\"pink\")\n",
    "plt.plot([0, 1], [0, 1], color='darkblue', linestyle='--')\n",
    "# alterando o nome dos eixos\n",
    "plt.xlabel('1- Especificidade')\n",
    "plt.ylabel('Sensibilidade')\n",
    "# Legenda\n",
    "plt.legend()\n",
    "# Mostrando o gráfico\n",
    "plt.show()"
   ]
  },
  {
   "cell_type": "code",
   "execution_count": 13,
   "id": "1856192f",
   "metadata": {},
   "outputs": [
    {
     "data": {
      "text/plain": [
       "1.0"
      ]
     },
     "execution_count": 13,
     "metadata": {},
     "output_type": "execute_result"
    }
   ],
   "source": [
    "from sklearn.metrics import roc_auc_score\n",
    "tree_preds = tree_model.fit(X_train, y_train)\n",
    "roc_auc_score(y_test,tree_preds.predict_proba(X_test)[:, 1])"
   ]
  },
  {
   "cell_type": "code",
   "execution_count": 294,
   "id": "b12a67aa",
   "metadata": {},
   "outputs": [],
   "source": [
    "new_df = df[['age','sex', 'trestbps','fbs',\n",
    "       'restecg','thalach', 'oldpeak','slope']]\n",
    "target = df['target']"
   ]
  },
  {
   "cell_type": "code",
   "execution_count": 295,
   "id": "28f17d67",
   "metadata": {},
   "outputs": [],
   "source": [
    "X_train, X_test, y_train, y_test = train_test_split(new_df,\n",
    "                                                    target,\n",
    "                                                    test_size=0.2)"
   ]
  },
  {
   "cell_type": "code",
   "execution_count": 296,
   "id": "020120f0",
   "metadata": {},
   "outputs": [],
   "source": [
    "# X_train, X_dev, y_train, y_dev = train_test_split(X_train,\n",
    "#                                                     y_train,\n",
    "# #                                                     random_state=3,\n",
    "#                                                     test_size=0.16)"
   ]
  },
  {
   "cell_type": "code",
   "execution_count": 297,
   "id": "5949c244",
   "metadata": {},
   "outputs": [
    {
     "name": "stdout",
     "output_type": "stream",
     "text": [
      "LDA Accuracy: 0.9853658536585366\n"
     ]
    }
   ],
   "source": [
    "tree_model = tree.DecisionTreeClassifier()\n",
    "tree_preds = tree_model.fit(X_train, y_train).predict(X_test)\n",
    "tree_acc = accuracy_score(y_test, tree_preds)\n",
    "print('LDA Accuracy: {}'.format(tree_acc))"
   ]
  },
  {
   "cell_type": "code",
   "execution_count": 298,
   "id": "8d40ba19",
   "metadata": {},
   "outputs": [],
   "source": [
    "# tree_preds = tree_model.predict(X_test)\n",
    "# tree_acc = accuracy_score(y_test, tree_preds)\n",
    "# print('LDA Accuracy: {}'.format(tree_acc))"
   ]
  },
  {
   "cell_type": "code",
   "execution_count": 299,
   "id": "43d8fefb",
   "metadata": {},
   "outputs": [],
   "source": [
    "# from sklearn.metrics import precision_score\n",
    "# tree_preds = precision_score(y_test, tree_preds)\n",
    "# print('Precision: {}'.format(tree_preds))"
   ]
  },
  {
   "cell_type": "code",
   "execution_count": 300,
   "id": "c98420ef",
   "metadata": {},
   "outputs": [
    {
     "data": {
      "image/png": "[encoded data removed]",
      "text/plain": [
       "<Figure size 500x500 with 1 Axes>"
      ]
     },
     "metadata": {},
     "output_type": "display_data"
    }
   ],
   "source": [
    "conf_matrix = confusion_matrix(y_test, tree_preds.round(0).astype(int),normalize='true')\n",
    "# Print the confusion matrix using Matplotlib\n",
    "#\n",
    "fig, ax = plt.subplots(figsize=(5, 5))\n",
    "ax.matshow(conf_matrix, cmap=plt.cm.Oranges, alpha=0.3)\n",
    "for i in range(conf_matrix.shape[0]):\n",
    "    for j in range(conf_matrix.shape[1]):\n",
    "        ax.text(x=j, y=i,s=str(round(conf_matrix[i, j]*100,1))+'%', va='center', ha='center', size='xx-large')\n",
    " \n",
    "plt.xlabel('Predictions', fontsize=18)\n",
    "plt.ylabel('Actuals', fontsize=18)\n",
    "plt.title('Decision Tree - Filtered', fontsize=18)\n",
    "plt.show()"
   ]
  },
  {
   "cell_type": "code",
   "execution_count": 159,
   "id": "e65bd5b2",
   "metadata": {},
   "outputs": [
    {
     "name": "stdout",
     "output_type": "stream",
     "text": [
      "              precision    recall  f1-score   support\n",
      "\n",
      "           0       0.97      1.00      0.99        99\n",
      "           1       1.00      0.97      0.99       106\n",
      "\n",
      "    accuracy                           0.99       205\n",
      "   macro avg       0.99      0.99      0.99       205\n",
      "weighted avg       0.99      0.99      0.99       205\n",
      "\n"
     ]
    }
   ],
   "source": [
    "from sklearn.metrics import classification_report\n",
    "classification_report = classification_report(y_test, tree_preds)\n",
    "print(classification_report)"
   ]
  },
  {
   "cell_type": "code",
   "execution_count": 22,
   "id": "b7d1ca7d",
   "metadata": {},
   "outputs": [
    {
     "data": {
      "application/vnd.plotly.v1+json": {
       "config": {
        "plotlyServerURL": "https://plot.ly"
       },
       "data": [
        {
         "marker": {
          "color": "pink"
         },
         "name": "General",
         "type": "bar",
         "x": [
          "Logistic Regression",
          "Lasso Regression",
          "SVM",
          "Decision Tree"
         ],
         "y": [
          50,
          73,
          83,
          98
         ]
        },
        {
         "marker": {
          "color": "lightblue"
         },
         "name": "Filtered",
         "type": "bar",
         "x": [
          "Logistic Regression",
          "Lasso Regression",
          "SVM",
          "Decision Tree"
         ],
         "y": [
          54,
          71,
          83,
          97
         ]
        }
       ],
       "layout": {
        "boxmode": "group",
        "template": {
         "data": {
          "bar": [
           {
            "error_x": {
             "color": "#2a3f5f"
            },
            "error_y": {
             "color": "#2a3f5f"
            },
            "marker": {
             "line": {
              "color": "#E5ECF6",
              "width": 0.5
             },
             "pattern": {
              "fillmode": "overlay",
              "size": 10,
              "solidity": 0.2
             }
            },
            "type": "bar"
           }
          ],
          "barpolar": [
           {
            "marker": {
             "line": {
              "color": "#E5ECF6",
              "width": 0.5
             },
             "pattern": {
              "fillmode": "overlay",
              "size": 10,
              "solidity": 0.2
             }
            },
            "type": "barpolar"
           }
          ],
          "carpet": [
           {
            "aaxis": {
             "endlinecolor": "#2a3f5f",
             "gridcolor": "white",
             "linecolor": "white",
             "minorgridcolor": "white",
             "startlinecolor": "#2a3f5f"
            },
            "baxis": {
             "endlinecolor": "#2a3f5f",
             "gridcolor": "white",
             "linecolor": "white",
             "minorgridcolor": "white",
             "startlinecolor": "#2a3f5f"
            },
            "type": "carpet"
           }
          ],
          "choropleth": [
           {
            "colorbar": {
             "outlinewidth": 0,
             "ticks": ""
            },
            "type": "choropleth"
           }
          ],
          "contour": [
           {
            "colorbar": {
             "outlinewidth": 0,
             "ticks": ""
            },
            "colorscale": [
             [
              0,
              "#0d0887"
             ],
             [
              0.1111111111111111,
              "#46039f"
             ],
             [
              0.2222222222222222,
              "#7201a8"
             ],
             [
              0.3333333333333333,
              "#9c179e"
             ],
             [
              0.4444444444444444,
              "#bd3786"
             ],
             [
              0.5555555555555556,
              "#d8576b"
             ],
             [
              0.6666666666666666,
              "#ed7953"
             ],
             [
              0.7777777777777778,
              "#fb9f3a"
             ],
             [
              0.8888888888888888,
              "#fdca26"
             ],
             [
              1,
              "#f0f921"
             ]
            ],
            "type": "contour"
           }
          ],
          "contourcarpet": [
           {
            "colorbar": {
             "outlinewidth": 0,
             "ticks": ""
            },
            "type": "contourcarpet"
           }
          ],
          "heatmap": [
           {
            "colorbar": {
             "outlinewidth": 0,
             "ticks": ""
            },
            "colorscale": [
             [
              0,
              "#0d0887"
             ],
             [
              0.1111111111111111,
              "#46039f"
             ],
             [
              0.2222222222222222,
              "#7201a8"
             ],
             [
              0.3333333333333333,
              "#9c179e"
             ],
             [
              0.4444444444444444,
              "#bd3786"
             ],
             [
              0.5555555555555556,
              "#d8576b"
             ],
             [
              0.6666666666666666,
              "#ed7953"
             ],
             [
              0.7777777777777778,
              "#fb9f3a"
             ],
             [
              0.8888888888888888,
              "#fdca26"
             ],
             [
              1,
              "#f0f921"
             ]
            ],
            "type": "heatmap"
           }
          ],
          "heatmapgl": [
           {
            "colorbar": {
             "outlinewidth": 0,
             "ticks": ""
            },
            "colorscale": [
             [
              0,
              "#0d0887"
             ],
             [
              0.1111111111111111,
              "#46039f"
             ],
             [
              0.2222222222222222,
              "#7201a8"
             ],
             [
              0.3333333333333333,
              "#9c179e"
             ],
             [
              0.4444444444444444,
              "#bd3786"
             ],
             [
              0.5555555555555556,
              "#d8576b"
             ],
             [
              0.6666666666666666,
              "#ed7953"
             ],
             [
              0.7777777777777778,
              "#fb9f3a"
             ],
             [
              0.8888888888888888,
              "#fdca26"
             ],
             [
              1,
              "#f0f921"
             ]
            ],
            "type": "heatmapgl"
           }
          ],
          "histogram": [
           {
            "marker": {
             "pattern": {
              "fillmode": "overlay",
              "size": 10,
              "solidity": 0.2
             }
            },
            "type": "histogram"
           }
          ],
          "histogram2d": [
           {
            "colorbar": {
             "outlinewidth": 0,
             "ticks": ""
            },
            "colorscale": [
             [
              0,
              "#0d0887"
             ],
             [
              0.1111111111111111,
              "#46039f"
             ],
             [
              0.2222222222222222,
              "#7201a8"
             ],
             [
              0.3333333333333333,
              "#9c179e"
             ],
             [
              0.4444444444444444,
              "#bd3786"
             ],
             [
              0.5555555555555556,
              "#d8576b"
             ],
             [
              0.6666666666666666,
              "#ed7953"
             ],
             [
              0.7777777777777778,
              "#fb9f3a"
             ],
             [
              0.8888888888888888,
              "#fdca26"
             ],
             [
              1,
              "#f0f921"
             ]
            ],
            "type": "histogram2d"
           }
          ],
          "histogram2dcontour": [
           {
            "colorbar": {
             "outlinewidth": 0,
             "ticks": ""
            },
            "colorscale": [
             [
              0,
              "#0d0887"
             ],
             [
              0.1111111111111111,
              "#46039f"
             ],
             [
              0.2222222222222222,
              "#7201a8"
             ],
             [
              0.3333333333333333,
              "#9c179e"
             ],
             [
              0.4444444444444444,
              "#bd3786"
             ],
             [
              0.5555555555555556,
              "#d8576b"
             ],
             [
              0.6666666666666666,
              "#ed7953"
             ],
             [
              0.7777777777777778,
              "#fb9f3a"
             ],
             [
              0.8888888888888888,
              "#fdca26"
             ],
             [
              1,
              "#f0f921"
             ]
            ],
            "type": "histogram2dcontour"
           }
          ],
          "mesh3d": [
           {
            "colorbar": {
             "outlinewidth": 0,
             "ticks": ""
            },
            "type": "mesh3d"
           }
          ],
          "parcoords": [
           {
            "line": {
             "colorbar": {
              "outlinewidth": 0,
              "ticks": ""
             }
            },
            "type": "parcoords"
           }
          ],
          "pie": [
           {
            "automargin": true,
            "type": "pie"
           }
          ],
          "scatter": [
           {
            "fillpattern": {
             "fillmode": "overlay",
             "size": 10,
             "solidity": 0.2
            },
            "type": "scatter"
           }
          ],
          "scatter3d": [
           {
            "line": {
             "colorbar": {
              "outlinewidth": 0,
              "ticks": ""
             }
            },
            "marker": {
             "colorbar": {
              "outlinewidth": 0,
              "ticks": ""
             }
            },
            "type": "scatter3d"
           }
          ],
          "scattercarpet": [
           {
            "marker": {
             "colorbar": {
              "outlinewidth": 0,
              "ticks": ""
             }
            },
            "type": "scattercarpet"
           }
          ],
          "scattergeo": [
           {
            "marker": {
             "colorbar": {
              "outlinewidth": 0,
              "ticks": ""
             }
            },
            "type": "scattergeo"
           }
          ],
          "scattergl": [
           {
            "marker": {
             "colorbar": {
              "outlinewidth": 0,
              "ticks": ""
             }
            },
            "type": "scattergl"
           }
          ],
          "scattermapbox": [
           {
            "marker": {
             "colorbar": {
              "outlinewidth": 0,
              "ticks": ""
             }
            },
            "type": "scattermapbox"
           }
          ],
          "scatterpolar": [
           {
            "marker": {
             "colorbar": {
              "outlinewidth": 0,
              "ticks": ""
             }
            },
            "type": "scatterpolar"
           }
          ],
          "scatterpolargl": [
           {
            "marker": {
             "colorbar": {
              "outlinewidth": 0,
              "ticks": ""
             }
            },
            "type": "scatterpolargl"
           }
          ],
          "scatterternary": [
           {
            "marker": {
             "colorbar": {
              "outlinewidth": 0,
              "ticks": ""
             }
            },
            "type": "scatterternary"
           }
          ],
          "surface": [
           {
            "colorbar": {
             "outlinewidth": 0,
             "ticks": ""
            },
            "colorscale": [
             [
              0,
              "#0d0887"
             ],
             [
              0.1111111111111111,
              "#46039f"
             ],
             [
              0.2222222222222222,
              "#7201a8"
             ],
             [
              0.3333333333333333,
              "#9c179e"
             ],
             [
              0.4444444444444444,
              "#bd3786"
             ],
             [
              0.5555555555555556,
              "#d8576b"
             ],
             [
              0.6666666666666666,
              "#ed7953"
             ],
             [
              0.7777777777777778,
              "#fb9f3a"
             ],
             [
              0.8888888888888888,
              "#fdca26"
             ],
             [
              1,
              "#f0f921"
             ]
            ],
            "type": "surface"
           }
          ],
          "table": [
           {
            "cells": {
             "fill": {
              "color": "#EBF0F8"
             },
             "line": {
              "color": "white"
             }
            },
            "header": {
             "fill": {
              "color": "#C8D4E3"
             },
             "line": {
              "color": "white"
             }
            },
            "type": "table"
           }
          ]
         },
         "layout": {
          "annotationdefaults": {
           "arrowcolor": "#2a3f5f",
           "arrowhead": 0,
           "arrowwidth": 1
          },
          "autotypenumbers": "strict",
          "coloraxis": {
           "colorbar": {
            "outlinewidth": 0,
            "ticks": ""
           }
          },
          "colorscale": {
           "diverging": [
            [
             0,
             "#8e0152"
            ],
            [
             0.1,
             "#c51b7d"
            ],
            [
             0.2,
             "#de77ae"
            ],
            [
             0.3,
             "#f1b6da"
            ],
            [
             0.4,
             "#fde0ef"
            ],
            [
             0.5,
             "#f7f7f7"
            ],
            [
             0.6,
             "#e6f5d0"
            ],
            [
             0.7,
             "#b8e186"
            ],
            [
             0.8,
             "#7fbc41"
            ],
            [
             0.9,
             "#4d9221"
            ],
            [
             1,
             "#276419"
            ]
           ],
           "sequential": [
            [
             0,
             "#0d0887"
            ],
            [
             0.1111111111111111,
             "#46039f"
            ],
            [
             0.2222222222222222,
             "#7201a8"
            ],
            [
             0.3333333333333333,
             "#9c179e"
            ],
            [
             0.4444444444444444,
             "#bd3786"
            ],
            [
             0.5555555555555556,
             "#d8576b"
            ],
            [
             0.6666666666666666,
             "#ed7953"
            ],
            [
             0.7777777777777778,
             "#fb9f3a"
            ],
            [
             0.8888888888888888,
             "#fdca26"
            ],
            [
             1,
             "#f0f921"
            ]
           ],
           "sequentialminus": [
            [
             0,
             "#0d0887"
            ],
            [
             0.1111111111111111,
             "#46039f"
            ],
            [
             0.2222222222222222,
             "#7201a8"
            ],
            [
             0.3333333333333333,
             "#9c179e"
            ],
            [
             0.4444444444444444,
             "#bd3786"
            ],
            [
             0.5555555555555556,
             "#d8576b"
            ],
            [
             0.6666666666666666,
             "#ed7953"
            ],
            [
             0.7777777777777778,
             "#fb9f3a"
            ],
            [
             0.8888888888888888,
             "#fdca26"
            ],
            [
             1,
             "#f0f921"
            ]
           ]
          },
          "colorway": [
           "#636efa",
           "#EF553B",
           "#00cc96",
           "#ab63fa",
           "#FFA15A",
           "#19d3f3",
           "#FF6692",
           "#B6E880",
           "#FF97FF",
           "#FECB52"
          ],
          "font": {
           "color": "#2a3f5f"
          },
          "geo": {
           "bgcolor": "white",
           "lakecolor": "white",
           "landcolor": "#E5ECF6",
           "showlakes": true,
           "showland": true,
           "subunitcolor": "white"
          },
          "hoverlabel": {
           "align": "left"
          },
          "hovermode": "closest",
          "mapbox": {
           "style": "light"
          },
          "paper_bgcolor": "white",
          "plot_bgcolor": "#E5ECF6",
          "polar": {
           "angularaxis": {
            "gridcolor": "white",
            "linecolor": "white",
            "ticks": ""
           },
           "bgcolor": "#E5ECF6",
           "radialaxis": {
            "gridcolor": "white",
            "linecolor": "white",
            "ticks": ""
           }
          },
          "scene": {
           "xaxis": {
            "backgroundcolor": "#E5ECF6",
            "gridcolor": "white",
            "gridwidth": 2,
            "linecolor": "white",
            "showbackground": true,
            "ticks": "",
            "zerolinecolor": "white"
           },
           "yaxis": {
            "backgroundcolor": "#E5ECF6",
            "gridcolor": "white",
            "gridwidth": 2,
            "linecolor": "white",
            "showbackground": true,
            "ticks": "",
            "zerolinecolor": "white"
           },
           "zaxis": {
            "backgroundcolor": "#E5ECF6",
            "gridcolor": "white",
            "gridwidth": 2,
            "linecolor": "white",
            "showbackground": true,
            "ticks": "",
            "zerolinecolor": "white"
           }
          },
          "shapedefaults": {
           "line": {
            "color": "#2a3f5f"
           }
          },
          "ternary": {
           "aaxis": {
            "gridcolor": "white",
            "linecolor": "white",
            "ticks": ""
           },
           "baxis": {
            "gridcolor": "white",
            "linecolor": "white",
            "ticks": ""
           },
           "bgcolor": "#E5ECF6",
           "caxis": {
            "gridcolor": "white",
            "linecolor": "white",
            "ticks": ""
           }
          },
          "title": {
           "x": 0.05
          },
          "xaxis": {
           "automargin": true,
           "gridcolor": "white",
           "linecolor": "white",
           "ticks": "",
           "title": {
            "standoff": 15
           },
           "zerolinecolor": "white",
           "zerolinewidth": 2
          },
          "yaxis": {
           "automargin": true,
           "gridcolor": "white",
           "linecolor": "white",
           "ticks": "",
           "title": {
            "standoff": 15
           },
           "zerolinecolor": "white",
           "zerolinewidth": 2
          }
         }
        },
        "title": {
         "text": "Accuracy vs Models",
         "x": 0.5
        },
        "xaxis": {
         "title": {
          "text": "Models"
         }
        },
        "yaxis": {
         "title": {
          "text": "Accuracy"
         }
        }
       }
      },
      "text/html": [
       "<div>                            <div id=\"8415709a-14af-415d-9670-f7efec256165\" class=\"plotly-graph-div\" style=\"height:525px; width:100%;\"></div>            <script type=\"text/javascript\">                require([\"plotly\"], function(Plotly) {                    window.PLOTLYENV=window.PLOTLYENV || {};                                    if (document.getElementById(\"8415709a-14af-415d-9670-f7efec256165\")) {                    Plotly.newPlot(                        \"8415709a-14af-415d-9670-f7efec256165\",                        [{\"marker\":{\"color\":\"pink\"},\"name\":\"General\",\"x\":[\"Logistic Regression\",\"Lasso Regression\",\"SVM\",\"Decision Tree\"],\"y\":[50,73,83,98],\"type\":\"bar\"},{\"marker\":{\"color\":\"lightblue\"},\"name\":\"Filtered\",\"x\":[\"Logistic Regression\",\"Lasso Regression\",\"SVM\",\"Decision Tree\"],\"y\":[54,71,83,97],\"type\":\"bar\"}],                        {\"template\":{\"data\":{\"histogram2dcontour\":[{\"type\":\"histogram2dcontour\",\"colorbar\":{\"outlinewidth\":0,\"ticks\":\"\"},\"colorscale\":[[0.0,\"#0d0887\"],[0.1111111111111111,\"#46039f\"],[0.2222222222222222,\"#7201a8\"],[0.3333333333333333,\"#9c179e\"],[0.4444444444444444,\"#bd3786\"],[0.5555555555555556,\"#d8576b\"],[0.6666666666666666,\"#ed7953\"],[0.7777777777777778,\"#fb9f3a\"],[0.8888888888888888,\"#fdca26\"],[1.0,\"#f0f921\"]]}],\"choropleth\":[{\"type\":\"choropleth\",\"colorbar\":{\"outlinewidth\":0,\"ticks\":\"\"}}],\"histogram2d\":[{\"type\":\"histogram2d\",\"colorbar\":{\"outlinewidth\":0,\"ticks\":\"\"},\"colorscale\":[[0.0,\"#0d0887\"],[0.1111111111111111,\"#46039f\"],[0.2222222222222222,\"#7201a8\"],[0.3333333333333333,\"#9c179e\"],[0.4444444444444444,\"#bd3786\"],[0.5555555555555556,\"#d8576b\"],[0.6666666666666666,\"#ed7953\"],[0.7777777777777778,\"#fb9f3a\"],[0.8888888888888888,\"#fdca26\"],[1.0,\"#f0f921\"]]}],\"heatmap\":[{\"type\":\"heatmap\",\"colorbar\":{\"outlinewidth\":0,\"ticks\":\"\"},\"colorscale\":[[0.0,\"#0d0887\"],[0.1111111111111111,\"#46039f\"],[0.2222222222222222,\"#7201a8\"],[0.3333333333333333,\"#9c179e\"],[0.4444444444444444,\"#bd3786\"],[0.5555555555555556,\"#d8576b\"],[0.6666666666666666,\"#ed7953\"],[0.7777777777777778,\"#fb9f3a\"],[0.8888888888888888,\"#fdca26\"],[1.0,\"#f0f921\"]]}],\"heatmapgl\":[{\"type\":\"heatmapgl\",\"colorbar\":{\"outlinewidth\":0,\"ticks\":\"\"},\"colorscale\":[[0.0,\"#0d0887\"],[0.1111111111111111,\"#46039f\"],[0.2222222222222222,\"#7201a8\"],[0.3333333333333333,\"#9c179e\"],[0.4444444444444444,\"#bd3786\"],[0.5555555555555556,\"#d8576b\"],[0.6666666666666666,\"#ed7953\"],[0.7777777777777778,\"#fb9f3a\"],[0.8888888888888888,\"#fdca26\"],[1.0,\"#f0f921\"]]}],\"contourcarpet\":[{\"type\":\"contourcarpet\",\"colorbar\":{\"outlinewidth\":0,\"ticks\":\"\"}}],\"contour\":[{\"type\":\"contour\",\"colorbar\":{\"outlinewidth\":0,\"ticks\":\"\"},\"colorscale\":[[0.0,\"#0d0887\"],[0.1111111111111111,\"#46039f\"],[0.2222222222222222,\"#7201a8\"],[0.3333333333333333,\"#9c179e\"],[0.4444444444444444,\"#bd3786\"],[0.5555555555555556,\"#d8576b\"],[0.6666666666666666,\"#ed7953\"],[0.7777777777777778,\"#fb9f3a\"],[0.8888888888888888,\"#fdca26\"],[1.0,\"#f0f921\"]]}],\"surface\":[{\"type\":\"surface\",\"colorbar\":{\"outlinewidth\":0,\"ticks\":\"\"},\"colorscale\":[[0.0,\"#0d0887\"],[0.1111111111111111,\"#46039f\"],[0.2222222222222222,\"#7201a8\"],[0.3333333333333333,\"#9c179e\"],[0.4444444444444444,\"#bd3786\"],[0.5555555555555556,\"#d8576b\"],[0.6666666666666666,\"#ed7953\"],[0.7777777777777778,\"#fb9f3a\"],[0.8888888888888888,\"#fdca26\"],[1.0,\"#f0f921\"]]}],\"mesh3d\":[{\"type\":\"mesh3d\",\"colorbar\":{\"outlinewidth\":0,\"ticks\":\"\"}}],\"scatter\":[{\"fillpattern\":{\"fillmode\":\"overlay\",\"size\":10,\"solidity\":0.2},\"type\":\"scatter\"}],\"parcoords\":[{\"type\":\"parcoords\",\"line\":{\"colorbar\":{\"outlinewidth\":0,\"ticks\":\"\"}}}],\"scatterpolargl\":[{\"type\":\"scatterpolargl\",\"marker\":{\"colorbar\":{\"outlinewidth\":0,\"ticks\":\"\"}}}],\"bar\":[{\"error_x\":{\"color\":\"#2a3f5f\"},\"error_y\":{\"color\":\"#2a3f5f\"},\"marker\":{\"line\":{\"color\":\"#E5ECF6\",\"width\":0.5},\"pattern\":{\"fillmode\":\"overlay\",\"size\":10,\"solidity\":0.2}},\"type\":\"bar\"}],\"scattergeo\":[{\"type\":\"scattergeo\",\"marker\":{\"colorbar\":{\"outlinewidth\":0,\"ticks\":\"\"}}}],\"scatterpolar\":[{\"type\":\"scatterpolar\",\"marker\":{\"colorbar\":{\"outlinewidth\":0,\"ticks\":\"\"}}}],\"histogram\":[{\"marker\":{\"pattern\":{\"fillmode\":\"overlay\",\"size\":10,\"solidity\":0.2}},\"type\":\"histogram\"}],\"scattergl\":[{\"type\":\"scattergl\",\"marker\":{\"colorbar\":{\"outlinewidth\":0,\"ticks\":\"\"}}}],\"scatter3d\":[{\"type\":\"scatter3d\",\"line\":{\"colorbar\":{\"outlinewidth\":0,\"ticks\":\"\"}},\"marker\":{\"colorbar\":{\"outlinewidth\":0,\"ticks\":\"\"}}}],\"scattermapbox\":[{\"type\":\"scattermapbox\",\"marker\":{\"colorbar\":{\"outlinewidth\":0,\"ticks\":\"\"}}}],\"scatterternary\":[{\"type\":\"scatterternary\",\"marker\":{\"colorbar\":{\"outlinewidth\":0,\"ticks\":\"\"}}}],\"scattercarpet\":[{\"type\":\"scattercarpet\",\"marker\":{\"colorbar\":{\"outlinewidth\":0,\"ticks\":\"\"}}}],\"carpet\":[{\"aaxis\":{\"endlinecolor\":\"#2a3f5f\",\"gridcolor\":\"white\",\"linecolor\":\"white\",\"minorgridcolor\":\"white\",\"startlinecolor\":\"#2a3f5f\"},\"baxis\":{\"endlinecolor\":\"#2a3f5f\",\"gridcolor\":\"white\",\"linecolor\":\"white\",\"minorgridcolor\":\"white\",\"startlinecolor\":\"#2a3f5f\"},\"type\":\"carpet\"}],\"table\":[{\"cells\":{\"fill\":{\"color\":\"#EBF0F8\"},\"line\":{\"color\":\"white\"}},\"header\":{\"fill\":{\"color\":\"#C8D4E3\"},\"line\":{\"color\":\"white\"}},\"type\":\"table\"}],\"barpolar\":[{\"marker\":{\"line\":{\"color\":\"#E5ECF6\",\"width\":0.5},\"pattern\":{\"fillmode\":\"overlay\",\"size\":10,\"solidity\":0.2}},\"type\":\"barpolar\"}],\"pie\":[{\"automargin\":true,\"type\":\"pie\"}]},\"layout\":{\"autotypenumbers\":\"strict\",\"colorway\":[\"#636efa\",\"#EF553B\",\"#00cc96\",\"#ab63fa\",\"#FFA15A\",\"#19d3f3\",\"#FF6692\",\"#B6E880\",\"#FF97FF\",\"#FECB52\"],\"font\":{\"color\":\"#2a3f5f\"},\"hovermode\":\"closest\",\"hoverlabel\":{\"align\":\"left\"},\"paper_bgcolor\":\"white\",\"plot_bgcolor\":\"#E5ECF6\",\"polar\":{\"bgcolor\":\"#E5ECF6\",\"angularaxis\":{\"gridcolor\":\"white\",\"linecolor\":\"white\",\"ticks\":\"\"},\"radialaxis\":{\"gridcolor\":\"white\",\"linecolor\":\"white\",\"ticks\":\"\"}},\"ternary\":{\"bgcolor\":\"#E5ECF6\",\"aaxis\":{\"gridcolor\":\"white\",\"linecolor\":\"white\",\"ticks\":\"\"},\"baxis\":{\"gridcolor\":\"white\",\"linecolor\":\"white\",\"ticks\":\"\"},\"caxis\":{\"gridcolor\":\"white\",\"linecolor\":\"white\",\"ticks\":\"\"}},\"coloraxis\":{\"colorbar\":{\"outlinewidth\":0,\"ticks\":\"\"}},\"colorscale\":{\"sequential\":[[0.0,\"#0d0887\"],[0.1111111111111111,\"#46039f\"],[0.2222222222222222,\"#7201a8\"],[0.3333333333333333,\"#9c179e\"],[0.4444444444444444,\"#bd3786\"],[0.5555555555555556,\"#d8576b\"],[0.6666666666666666,\"#ed7953\"],[0.7777777777777778,\"#fb9f3a\"],[0.8888888888888888,\"#fdca26\"],[1.0,\"#f0f921\"]],\"sequentialminus\":[[0.0,\"#0d0887\"],[0.1111111111111111,\"#46039f\"],[0.2222222222222222,\"#7201a8\"],[0.3333333333333333,\"#9c179e\"],[0.4444444444444444,\"#bd3786\"],[0.5555555555555556,\"#d8576b\"],[0.6666666666666666,\"#ed7953\"],[0.7777777777777778,\"#fb9f3a\"],[0.8888888888888888,\"#fdca26\"],[1.0,\"#f0f921\"]],\"diverging\":[[0,\"#8e0152\"],[0.1,\"#c51b7d\"],[0.2,\"#de77ae\"],[0.3,\"#f1b6da\"],[0.4,\"#fde0ef\"],[0.5,\"#f7f7f7\"],[0.6,\"#e6f5d0\"],[0.7,\"#b8e186\"],[0.8,\"#7fbc41\"],[0.9,\"#4d9221\"],[1,\"#276419\"]]},\"xaxis\":{\"gridcolor\":\"white\",\"linecolor\":\"white\",\"ticks\":\"\",\"title\":{\"standoff\":15},\"zerolinecolor\":\"white\",\"automargin\":true,\"zerolinewidth\":2},\"yaxis\":{\"gridcolor\":\"white\",\"linecolor\":\"white\",\"ticks\":\"\",\"title\":{\"standoff\":15},\"zerolinecolor\":\"white\",\"automargin\":true,\"zerolinewidth\":2},\"scene\":{\"xaxis\":{\"backgroundcolor\":\"#E5ECF6\",\"gridcolor\":\"white\",\"linecolor\":\"white\",\"showbackground\":true,\"ticks\":\"\",\"zerolinecolor\":\"white\",\"gridwidth\":2},\"yaxis\":{\"backgroundcolor\":\"#E5ECF6\",\"gridcolor\":\"white\",\"linecolor\":\"white\",\"showbackground\":true,\"ticks\":\"\",\"zerolinecolor\":\"white\",\"gridwidth\":2},\"zaxis\":{\"backgroundcolor\":\"#E5ECF6\",\"gridcolor\":\"white\",\"linecolor\":\"white\",\"showbackground\":true,\"ticks\":\"\",\"zerolinecolor\":\"white\",\"gridwidth\":2}},\"shapedefaults\":{\"line\":{\"color\":\"#2a3f5f\"}},\"annotationdefaults\":{\"arrowcolor\":\"#2a3f5f\",\"arrowhead\":0,\"arrowwidth\":1},\"geo\":{\"bgcolor\":\"white\",\"landcolor\":\"#E5ECF6\",\"subunitcolor\":\"white\",\"showland\":true,\"showlakes\":true,\"lakecolor\":\"white\"},\"title\":{\"x\":0.05},\"mapbox\":{\"style\":\"light\"}}},\"title\":{\"text\":\"Accuracy vs Models\",\"x\":0.5},\"boxmode\":\"group\",\"yaxis\":{\"title\":{\"text\":\"Accuracy\"}},\"xaxis\":{\"title\":{\"text\":\"Models\"}}},                        {\"responsive\": true}                    ).then(function(){\n",
       "                            \n",
       "var gd = document.getElementById('8415709a-14af-415d-9670-f7efec256165');\n",
       "var x = new MutationObserver(function (mutations, observer) {{\n",
       "        var display = window.getComputedStyle(gd).display;\n",
       "        if (!display || display === 'none') {{\n",
       "            console.log([gd, 'removed!']);\n",
       "            Plotly.purge(gd);\n",
       "            observer.disconnect();\n",
       "        }}\n",
       "}});\n",
       "\n",
       "// Listen for the removal of the full notebook cells\n",
       "var notebookContainer = gd.closest('#notebook-container');\n",
       "if (notebookContainer) {{\n",
       "    x.observe(notebookContainer, {childList: true});\n",
       "}}\n",
       "\n",
       "// Listen for the clearing of the current output cell\n",
       "var outputEl = gd.closest('.output');\n",
       "if (outputEl) {{\n",
       "    x.observe(outputEl, {childList: true});\n",
       "}}\n",
       "\n",
       "                        })                };                });            </script>        </div>"
      ]
     },
     "metadata": {},
     "output_type": "display_data"
    }
   ],
   "source": [
    "import plotly.graph_objects as go\n",
    "Models=['Logistic Regression', 'Lasso Regression', 'SVM','Decision Tree']\n",
    "fig = go.Figure(data=[\n",
    "    go.Bar(name='General', x=Models, y=[50, 73, 83,98],\n",
    "          marker_color='pink'),\n",
    "    go.Bar(name='Filtered', x=Models, y=[54, 71, 83,97],\n",
    "          marker_color='lightblue')\n",
    "])\n",
    "fig.update_layout(\n",
    "        boxmode='group',\n",
    "        title='Accuracy vs Models',title_x=0.5\n",
    ")\n",
    "fig.update_layout(\n",
    "    yaxis_title=\"Accuracy\",\n",
    ")\n",
    "fig.update_layout(\n",
    "    xaxis_title=\"Models\",\n",
    ")\n",
    "fig.show()"
   ]
  },
  {
   "cell_type": "code",
   "execution_count": null,
   "id": "ca3216ab",
   "metadata": {},
   "outputs": [],
   "source": []
  }
 ],
 "metadata": {
  "kernelspec": {
   "display_name": "Python 3 (ipykernel)",
   "language": "python",
   "name": "python3"
  },
  "language_info": {
   "codemirror_mode": {
    "name": "ipython",
    "version": 3
   },
   "file_extension": ".py",
   "mimetype": "text/x-python",
   "name": "python",
   "nbconvert_exporter": "python",
   "pygments_lexer": "ipython3",
   "version": "3.9.13"
  }
 },
 "nbformat": 4,
 "nbformat_minor": 5
}
